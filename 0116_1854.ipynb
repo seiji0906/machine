{
  "nbformat": 4,
  "nbformat_minor": 0,
  "metadata": {
    "colab": {
      "provenance": [],
      "mount_file_id": "1uPeqW35oBR4y8YXCA9T3ZyG6gOU1Kl-k",
      "authorship_tag": "ABX9TyN4GlbccbBCXx/p2wxdd2/B",
      "include_colab_link": true
    },
    "kernelspec": {
      "name": "python3",
      "display_name": "Python 3"
    },
    "language_info": {
      "name": "python"
    }
  },
  "cells": [
    {
      "cell_type": "markdown",
      "metadata": {
        "id": "view-in-github",
        "colab_type": "text"
      },
      "source": [
        "<a href=\"https://colab.research.google.com/github/seiji0906/machine/blob/main/0116_1854.ipynb\" target=\"_parent\"><img src=\"https://colab.research.google.com/assets/colab-badge.svg\" alt=\"Open In Colab\"/></a>"
      ]
    },
    {
      "cell_type": "code",
      "source": [
        "# # 使うデータ\n",
        "# import cv2\n",
        "# from google.colab.patches import cv2_imshow\n",
        "\n",
        "# path = '/content/drive/MyDrive/Colab Notebooks/相転移/'\n",
        "\n",
        "# files = []\n",
        "\n",
        "# files.append(path + \"beta=0.06938775510204082_step=99.jpg\")\n",
        "# files.append(path + \"beta=0.3989795918367347_step=99.jpg\")\n",
        "# files.append(path + \"beta=0.6510204081632653_step=99.jpg\")\n",
        "\n",
        "# for num, file in enumerate(files):\n",
        "#   img = cv2.imread(file)\n",
        "#   img = cv2.resize(img,dsize=(180,180))\n",
        "#   print(\"image\" + str(num))\n",
        "#   cv2_imshow(img)"
      ],
      "metadata": {
        "id": "SbF6s9YLlUxy"
      },
      "execution_count": 1,
      "outputs": []
    },
    {
      "cell_type": "code",
      "source": [
        "import numpy as np\n",
        "import cv2\n",
        "import glob as glob\n",
        "from keras.utils import np_utils\n",
        "from sklearn.model_selection import train_test_split\n",
        "\n",
        "path = '/content/drive/MyDrive/Colab Notebooks'\n",
        "\n",
        "\n",
        "folder = ['常磁性', '強磁性2']\n",
        "\n",
        "X_image = []\n",
        "Y_label = []\n",
        "\n",
        "for label,class_name in enumerate(folder):\n",
        "  files = glob.glob(path + \"/\" +  class_name + \"/*.jpg\")\n",
        "  for file in files:\n",
        "    img = cv2.imread(file)\n",
        "    img = cv2.cvtColor(img, cv2.COLOR_BGR2GRAY)\n",
        "    img = cv2.resize(img,dsize=(180,180))\n",
        "    X_image.append(img)\n",
        "    Y_label.append(label)\n",
        "\n",
        "X_image = np.array(X_image)\n",
        "X_image = X_image.astype('float32')\n",
        "X_image /= 255.0\n",
        "\n",
        "Y_label = np.array(Y_label)\n",
        "Y_label = np_utils.to_categorical(Y_label, len(folder))\n",
        "Y_label[:5]\n",
        "\n",
        "\n",
        "\n",
        "X_train,X_test,Y_train,Y_test = train_test_split(X_image,Y_label,test_size=0.2, shuffle=True)\n",
        "\n",
        "print(len(X_train))\n",
        "print(len(X_test))"
      ],
      "metadata": {
        "id": "JHb-NVoCX89o",
        "colab": {
          "base_uri": "https://localhost:8080/"
        },
        "outputId": "d655348d-7a7c-4705-f430-68cfcaabc2ee"
      },
      "execution_count": 52,
      "outputs": [
        {
          "output_type": "stream",
          "name": "stdout",
          "text": [
            "3576\n",
            "894\n"
          ]
        }
      ]
    },
    {
      "cell_type": "code",
      "source": [
        "# 3576+894\n",
        "print(1/0.05)\n",
        "print(1/0.4)\n",
        "print(1/0.5)\n"
      ],
      "metadata": {
        "colab": {
          "base_uri": "https://localhost:8080/"
        },
        "id": "xPEstVV880be",
        "outputId": "16da0b13-322d-423f-88da-abcc52c79665"
      },
      "execution_count": 55,
      "outputs": [
        {
          "output_type": "stream",
          "name": "stdout",
          "text": [
            "20.0\n",
            "2.5\n",
            "2.0\n"
          ]
        }
      ]
    },
    {
      "cell_type": "code",
      "source": [
        "from tensorflow.python import metrics\n",
        "from warnings import filters\n",
        "from tensorflow import keras\n",
        "from tensorflow.keras import layers\n",
        "\n",
        "inputs = keras.Input(shape=(180, 180, 1))\n",
        "\n",
        "x = layers.Rescaling(1./255)(inputs)\n",
        "x = layers.Conv2D(filters=32, kernel_size=3, activation=\"relu\")(x)\n",
        "x = layers.MaxPooling2D(pool_size=2)(x)\n",
        "x = layers.Conv2D(filters=64, kernel_size=3, activation=\"relu\")(x)\n",
        "x = layers.MaxPooling2D(pool_size=2)(x)\n",
        "x = layers.Conv2D(filters=128, kernel_size=3, activation=\"relu\")(x)\n",
        "x = layers.MaxPooling2D(pool_size=2)(x)\n",
        "x = layers.Conv2D(filters=256, kernel_size=3, activation=\"relu\")(x)\n",
        "x = layers.MaxPooling2D(pool_size=2)(x)\n",
        "x = layers.Flatten()(x)\n",
        "outputs = layers.Dense(2, activation=\"sigmoid\")(x)\n",
        "model = keras.Model(inputs=inputs, outputs=outputs)\n",
        "\n",
        "model.summary()\n",
        "\n",
        "model.compile(loss=\"binary_crossentropy\",\n",
        "              optimizer=\"rmsprop\",\n",
        "              metrics=[\"accuracy\"])"
      ],
      "metadata": {
        "colab": {
          "base_uri": "https://localhost:8080/"
        },
        "id": "Hvi_yd58aYow",
        "outputId": "9fdd4dc1-b796-40ba-ef84-357188bbfbf4"
      },
      "execution_count": 3,
      "outputs": [
        {
          "output_type": "stream",
          "name": "stdout",
          "text": [
            "Model: \"model\"\n",
            "_________________________________________________________________\n",
            " Layer (type)                Output Shape              Param #   \n",
            "=================================================================\n",
            " input_1 (InputLayer)        [(None, 180, 180, 1)]     0         \n",
            "                                                                 \n",
            " rescaling (Rescaling)       (None, 180, 180, 1)       0         \n",
            "                                                                 \n",
            " conv2d (Conv2D)             (None, 178, 178, 32)      320       \n",
            "                                                                 \n",
            " max_pooling2d (MaxPooling2D  (None, 89, 89, 32)       0         \n",
            " )                                                               \n",
            "                                                                 \n",
            " conv2d_1 (Conv2D)           (None, 87, 87, 64)        18496     \n",
            "                                                                 \n",
            " max_pooling2d_1 (MaxPooling  (None, 43, 43, 64)       0         \n",
            " 2D)                                                             \n",
            "                                                                 \n",
            " conv2d_2 (Conv2D)           (None, 41, 41, 128)       73856     \n",
            "                                                                 \n",
            " max_pooling2d_2 (MaxPooling  (None, 20, 20, 128)      0         \n",
            " 2D)                                                             \n",
            "                                                                 \n",
            " conv2d_3 (Conv2D)           (None, 18, 18, 256)       295168    \n",
            "                                                                 \n",
            " max_pooling2d_3 (MaxPooling  (None, 9, 9, 256)        0         \n",
            " 2D)                                                             \n",
            "                                                                 \n",
            " flatten (Flatten)           (None, 20736)             0         \n",
            "                                                                 \n",
            " dense (Dense)               (None, 2)                 41474     \n",
            "                                                                 \n",
            "=================================================================\n",
            "Total params: 429,314\n",
            "Trainable params: 429,314\n",
            "Non-trainable params: 0\n",
            "_________________________________________________________________\n"
          ]
        }
      ]
    },
    {
      "cell_type": "code",
      "source": [
        "# 学習データで学習\n",
        "model.fit(X_train, Y_train, epochs=10, batch_size=32)\n",
        "\n",
        "#テストデータで精度確認\n",
        "score = model.evaluate(X_test, Y_test, batch_size=32)\n",
        "\n",
        "print(score)"
      ],
      "metadata": {
        "colab": {
          "base_uri": "https://localhost:8080/"
        },
        "id": "j1gLsWHXYIXC",
        "outputId": "2d51d7f5-6d30-4b5d-c24b-24243d4304b0"
      },
      "execution_count": 4,
      "outputs": [
        {
          "output_type": "stream",
          "name": "stdout",
          "text": [
            "Epoch 1/10\n",
            "112/112 [==============================] - 244s 2s/step - loss: 0.6797 - accuracy: 0.5724\n",
            "Epoch 2/10\n",
            "112/112 [==============================] - 242s 2s/step - loss: 0.6678 - accuracy: 0.5663\n",
            "Epoch 3/10\n",
            "112/112 [==============================] - 240s 2s/step - loss: 0.4795 - accuracy: 0.7900\n",
            "Epoch 4/10\n",
            "112/112 [==============================] - 240s 2s/step - loss: 0.3014 - accuracy: 0.8753\n",
            "Epoch 5/10\n",
            "112/112 [==============================] - 242s 2s/step - loss: 0.2081 - accuracy: 0.9676\n",
            "Epoch 6/10\n",
            "112/112 [==============================] - 240s 2s/step - loss: 0.1003 - accuracy: 0.9841\n",
            "Epoch 7/10\n",
            "112/112 [==============================] - 240s 2s/step - loss: 0.2881 - accuracy: 0.9256\n",
            "Epoch 8/10\n",
            "112/112 [==============================] - 240s 2s/step - loss: 0.1372 - accuracy: 0.9645\n",
            "Epoch 9/10\n",
            "112/112 [==============================] - 242s 2s/step - loss: 0.1510 - accuracy: 0.9541\n",
            "Epoch 10/10\n",
            "112/112 [==============================] - 239s 2s/step - loss: 0.0372 - accuracy: 0.9947\n",
            "28/28 [==============================] - 16s 579ms/step - loss: 2.1465e-04 - accuracy: 1.0000\n",
            "[0.00021465045574586838, 1.0]\n"
          ]
        }
      ]
    },
    {
      "cell_type": "code",
      "source": [
        "path = '/content/drive/MyDrive/Colab Notebooks'\n",
        "\n",
        "\n",
        "folder = ['相転移10']\n",
        "\n",
        "X_image = []\n",
        "\n",
        "for label,class_name in enumerate(folder):\n",
        "  files = glob.glob(path + \"/\" +  class_name + \"/*.jpg\")\n",
        "  for file in files:\n",
        "    img = cv2.imread(file)\n",
        "    img = cv2.cvtColor(img, cv2.COLOR_BGR2GRAY)\n",
        "    img = cv2.resize(img,dsize=(180,180))\n",
        "    X_image.append(img)\n",
        "\n",
        "X_image = np.array(X_image)\n",
        "X_image = X_image.astype('float32')\n",
        "X_image /= 255.0\n",
        "\n",
        "print(len(X_image))"
      ],
      "metadata": {
        "colab": {
          "base_uri": "https://localhost:8080/"
        },
        "id": "JDWQJmhgYN-m",
        "outputId": "6fb969d8-a4ac-437a-acda-69ac77eeccdb"
      },
      "execution_count": 43,
      "outputs": [
        {
          "output_type": "stream",
          "name": "stdout",
          "text": [
            "2000\n"
          ]
        }
      ]
    },
    {
      "cell_type": "code",
      "source": [
        "history = model.predict(X_image)\n",
        "# plt.plot(history)"
      ],
      "metadata": {
        "colab": {
          "base_uri": "https://localhost:8080/"
        },
        "id": "jg4NhT8zYRUr",
        "outputId": "a4a29de4-7994-440e-8fd3-4bb438abf81c"
      },
      "execution_count": 44,
      "outputs": [
        {
          "output_type": "stream",
          "name": "stdout",
          "text": [
            "63/63 [==============================] - 36s 569ms/step\n"
          ]
        }
      ]
    },
    {
      "cell_type": "code",
      "source": [
        "# print(history)\n",
        "import matplotlib.pyplot as plt\n",
        "from statistics import mean\n",
        "\n",
        "# print(history)\n",
        "plt.plot(history)\n",
        "\n",
        "# print(history)\n",
        "\n",
        "predict = []\n",
        "\n",
        "\n",
        "\n",
        "# for i in range():\n",
        "\n",
        "\n",
        "for i in range(len(history)):\n",
        "  predict.append(history[i][1])\n",
        "\n",
        "# print(predict)\n",
        "\n",
        "# print(mean(predict[0:9]))\n",
        "\n",
        "# result = []\n",
        "\n",
        "# for i in range(50):\n",
        "#   result.append(mean(predict[10*i:10*i+9]))\n",
        "\n",
        "\n",
        "\n",
        "# print(result)\n",
        "\n",
        "\n",
        "\n",
        "# betas=np.linspace(0.2, 0.6, 50).tolist()\n",
        "\n",
        "\n",
        "# fig, ax = plt.subplots()\n",
        "# ax.errorbar(betas, predict, capsize=4, marker='.')\n",
        "# plt.show()"
      ],
      "metadata": {
        "colab": {
          "base_uri": "https://localhost:8080/",
          "height": 265
        },
        "id": "TYzBCBwv0dKZ",
        "outputId": "dce8f5b5-bd73-4e53-ccd3-bbe61c572c8f"
      },
      "execution_count": 45,
      "outputs": [
        {
          "output_type": "display_data",
          "data": {
            "text/plain": [
              "<Figure size 432x288 with 1 Axes>"
            ],
            "image/png": "[encoded data removed]"
          },
          "metadata": {
            "needs_background": "light"
          }
        }
      ]
    },
    {
      "cell_type": "code",
      "source": [
        "# history\n",
        "print(len(history))\n",
        "\n",
        "# predictを20要素ずつ平均を取る"
      ],
      "metadata": {
        "colab": {
          "base_uri": "https://localhost:8080/"
        },
        "id": "5Pkm_8hgY0id",
        "outputId": "2479b7a3-140e-44c4-b576-6b2469f0ce71"
      },
      "execution_count": 46,
      "outputs": [
        {
          "output_type": "stream",
          "name": "stdout",
          "text": [
            "2000\n"
          ]
        }
      ]
    },
    {
      "cell_type": "code",
      "source": [
        "# for i in range(len(predict)):\n",
        "#   print(predict[i])\n",
        "from statistics import mean\n",
        "\n",
        "result = []\n",
        "\n",
        "p = 0\n",
        "\n",
        "for i in range(100):\n",
        "  for j in range(20):\n",
        "    # print(i*20 + j)\n",
        "    # mean(predict[])\n",
        "    p += predict[i*20+j]\n",
        "  result.append(p / 20)\n",
        "  p = 0\n",
        "\n",
        "\n",
        "# print(result)\n",
        "\n",
        "# plt.plot(result)\n",
        "\n",
        "betas=np.linspace(0.4, 0.5, 100).tolist()\n",
        "\n",
        "\n",
        "fig, ax = plt.subplots()\n",
        "plt.title(\"ferromagnetism probability\")\n",
        "plt.xlabel('beta (1/T)')\n",
        "plt.ylabel('probability')\n",
        "ax.errorbar(betas, result, capsize=4, marker='.', linestyle=\"\")\n",
        "# mpl.rcParams['lines.linestyle'] = ''\n",
        "plt.show()\n"
      ],
      "metadata": {
        "colab": {
          "base_uri": "https://localhost:8080/",
          "height": 295
        },
        "id": "OquT3WC7aEZm",
        "outputId": "3694d72a-f0c0-421f-e70b-ee3ab5f4031e"
      },
      "execution_count": 51,
      "outputs": [
        {
          "output_type": "display_data",
          "data": {
            "text/plain": [
              "<Figure size 432x288 with 1 Axes>"
            ],
            "image/png": "[encoded data removed]"
          },
          "metadata": {
            "needs_background": "light"
          }
        }
      ]
    },
    {
      "cell_type": "code",
      "source": [
        "# import matplotlib.pyplot as plt\n",
        "# from statistics import mean\n",
        "\n",
        "# # print(history)\n",
        "# # plt.plot(history)\n",
        "\n",
        "# print(history)\n",
        "\n",
        "# predict = []\n",
        "\n",
        "\n",
        "\n",
        "# # for i in range():\n",
        "\n",
        "\n",
        "# for i in range(len(history)):\n",
        "#   predict.append(history[i][1])\n",
        "\n",
        "# # print(predict)\n",
        "\n",
        "# # print(mean(predict[0:9]))\n",
        "\n",
        "# result = []\n",
        "\n",
        "# for i in range(50):\n",
        "#   result.append(mean(predict[10*i:10*i+9]))\n",
        "\n",
        "\n",
        "\n",
        "# # print(result)\n",
        "\n",
        "\n",
        "\n",
        "# betas=np.linspace(0.4, 0.5, 50).tolist()\n",
        "\n",
        "\n",
        "# fig, ax = plt.subplots()\n",
        "# ax.errorbar(betas, result, capsize=4, marker='.')\n",
        "# plt.show()"
      ],
      "metadata": {
        "id": "nygoSU91YRx8"
      },
      "execution_count": 48,
      "outputs": []
    }
  ]
}