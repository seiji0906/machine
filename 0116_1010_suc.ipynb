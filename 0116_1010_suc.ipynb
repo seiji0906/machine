{
  "nbformat": 4,
  "nbformat_minor": 0,
  "metadata": {
    "colab": {
      "provenance": [],
      "mount_file_id": "1uPeqW35oBR4y8YXCA9T3ZyG6gOU1Kl-k",
      "authorship_tag": "ABX9TyO3GoxtY3IcxhzsAbd1wTsF",
      "include_colab_link": true
    },
    "kernelspec": {
      "name": "python3",
      "display_name": "Python 3"
    },
    "language_info": {
      "name": "python"
    }
  },
  "cells": [
    {
      "cell_type": "markdown",
      "metadata": {
        "id": "view-in-github",
        "colab_type": "text"
      },
      "source": [
        "<a href=\"https://colab.research.google.com/github/seiji0906/machine/blob/main/0116_1010_suc.ipynb\" target=\"_parent\"><img src=\"https://colab.research.google.com/assets/colab-badge.svg\" alt=\"Open In Colab\"/></a>"
      ]
    },
    {
      "cell_type": "code",
      "source": [
        "# # 使うデータ\n",
        "# import cv2\n",
        "# from google.colab.patches import cv2_imshow\n",
        "\n",
        "# path = '/content/drive/MyDrive/Colab Notebooks/相転移/'\n",
        "\n",
        "# files = []\n",
        "\n",
        "# files.append(path + \"beta=0.06938775510204082_step=99.jpg\")\n",
        "# files.append(path + \"beta=0.3989795918367347_step=99.jpg\")\n",
        "# files.append(path + \"beta=0.6510204081632653_step=99.jpg\")\n",
        "\n",
        "# for num, file in enumerate(files):\n",
        "#   img = cv2.imread(file)\n",
        "#   img = cv2.resize(img,dsize=(180,180))\n",
        "#   print(\"image\" + str(num))\n",
        "#   cv2_imshow(img)"
      ],
      "metadata": {
        "id": "SbF6s9YLlUxy"
      },
      "execution_count": 1,
      "outputs": []
    },
    {
      "cell_type": "code",
      "source": [
        "import numpy as np\n",
        "import cv2\n",
        "import glob as glob\n",
        "from keras.utils import np_utils\n",
        "from sklearn.model_selection import train_test_split\n",
        "\n",
        "path = '/content/drive/MyDrive/Colab Notebooks'\n",
        "\n",
        "\n",
        "folder = ['常磁性', '強磁性2']\n",
        "\n",
        "X_image = []\n",
        "Y_label = []\n",
        "\n",
        "for label,class_name in enumerate(folder):\n",
        "  files = glob.glob(path + \"/\" +  class_name + \"/*.jpg\")\n",
        "  for file in files:\n",
        "    img = cv2.imread(file)\n",
        "    img = cv2.cvtColor(img, cv2.COLOR_BGR2GRAY)\n",
        "    img = cv2.resize(img,dsize=(180,180))\n",
        "    X_image.append(img)\n",
        "    Y_label.append(label)\n",
        "\n",
        "X_image = np.array(X_image)\n",
        "X_image = X_image.astype('float32')\n",
        "X_image /= 255.0\n",
        "\n",
        "Y_label = np.array(Y_label)\n",
        "Y_label = np_utils.to_categorical(Y_label, len(folder))\n",
        "Y_label[:5]\n",
        "\n",
        "\n",
        "\n",
        "X_train,X_test,Y_train,Y_test = train_test_split(X_image,Y_label,test_size=0.2, shuffle=True)"
      ],
      "metadata": {
        "id": "JHb-NVoCX89o"
      },
      "execution_count": 2,
      "outputs": []
    },
    {
      "cell_type": "code",
      "source": [
        "from tensorflow.python import metrics\n",
        "from warnings import filters\n",
        "from tensorflow import keras\n",
        "from tensorflow.keras import layers\n",
        "\n",
        "inputs = keras.Input(shape=(180, 180, 1))\n",
        "\n",
        "x = layers.Rescaling(1./255)(inputs)\n",
        "x = layers.Conv2D(filters=32, kernel_size=3, activation=\"relu\")(x)\n",
        "x = layers.MaxPooling2D(pool_size=2)(x)\n",
        "x = layers.Conv2D(filters=64, kernel_size=3, activation=\"relu\")(x)\n",
        "x = layers.MaxPooling2D(pool_size=2)(x)\n",
        "x = layers.Conv2D(filters=128, kernel_size=3, activation=\"relu\")(x)\n",
        "x = layers.MaxPooling2D(pool_size=2)(x)\n",
        "x = layers.Conv2D(filters=256, kernel_size=3, activation=\"relu\")(x)\n",
        "x = layers.MaxPooling2D(pool_size=2)(x)\n",
        "x = layers.Flatten()(x)\n",
        "outputs = layers.Dense(2, activation=\"sigmoid\")(x)\n",
        "model = keras.Model(inputs=inputs, outputs=outputs)\n",
        "\n",
        "model.summary()\n",
        "\n",
        "model.compile(loss=\"binary_crossentropy\",\n",
        "              optimizer=\"rmsprop\",\n",
        "              metrics=[\"accuracy\"])"
      ],
      "metadata": {
        "colab": {
          "base_uri": "https://localhost:8080/"
        },
        "id": "Hvi_yd58aYow",
        "outputId": "3b3e34c4-60e7-4fd2-ea66-6da6f4e02d85"
      },
      "execution_count": 3,
      "outputs": [
        {
          "output_type": "stream",
          "name": "stdout",
          "text": [
            "Model: \"model\"\n",
            "_________________________________________________________________\n",
            " Layer (type)                Output Shape              Param #   \n",
            "=================================================================\n",
            " input_1 (InputLayer)        [(None, 180, 180, 1)]     0         \n",
            "                                                                 \n",
            " rescaling (Rescaling)       (None, 180, 180, 1)       0         \n",
            "                                                                 \n",
            " conv2d (Conv2D)             (None, 178, 178, 32)      320       \n",
            "                                                                 \n",
            " max_pooling2d (MaxPooling2D  (None, 89, 89, 32)       0         \n",
            " )                                                               \n",
            "                                                                 \n",
            " conv2d_1 (Conv2D)           (None, 87, 87, 64)        18496     \n",
            "                                                                 \n",
            " max_pooling2d_1 (MaxPooling  (None, 43, 43, 64)       0         \n",
            " 2D)                                                             \n",
            "                                                                 \n",
            " conv2d_2 (Conv2D)           (None, 41, 41, 128)       73856     \n",
            "                                                                 \n",
            " max_pooling2d_2 (MaxPooling  (None, 20, 20, 128)      0         \n",
            " 2D)                                                             \n",
            "                                                                 \n",
            " conv2d_3 (Conv2D)           (None, 18, 18, 256)       295168    \n",
            "                                                                 \n",
            " max_pooling2d_3 (MaxPooling  (None, 9, 9, 256)        0         \n",
            " 2D)                                                             \n",
            "                                                                 \n",
            " flatten (Flatten)           (None, 20736)             0         \n",
            "                                                                 \n",
            " dense (Dense)               (None, 2)                 41474     \n",
            "                                                                 \n",
            "=================================================================\n",
            "Total params: 429,314\n",
            "Trainable params: 429,314\n",
            "Non-trainable params: 0\n",
            "_________________________________________________________________\n"
          ]
        }
      ]
    },
    {
      "cell_type": "code",
      "source": [
        "# 学習データで学習\n",
        "model.fit(X_train, Y_train, epochs=15, batch_size=16)\n",
        "\n",
        "#テストデータで精度確認\n",
        "score = model.evaluate(X_test, Y_test, batch_size=16)\n",
        "\n",
        "print(score)"
      ],
      "metadata": {
        "colab": {
          "base_uri": "https://localhost:8080/"
        },
        "id": "j1gLsWHXYIXC",
        "outputId": "f7283d17-f040-4680-a621-66dc7a07ffab"
      },
      "execution_count": 4,
      "outputs": [
        {
          "output_type": "stream",
          "name": "stdout",
          "text": [
            "Epoch 1/15\n",
            "50/50 [==============================] - 58s 1s/step - loss: 0.7000 - accuracy: 0.5050\n",
            "Epoch 2/15\n",
            "50/50 [==============================] - 53s 1s/step - loss: 0.7009 - accuracy: 0.5225\n",
            "Epoch 3/15\n",
            "50/50 [==============================] - 55s 1s/step - loss: 0.6839 - accuracy: 0.6137\n",
            "Epoch 4/15\n",
            "50/50 [==============================] - 53s 1s/step - loss: 0.3210 - accuracy: 0.8712\n",
            "Epoch 5/15\n",
            "50/50 [==============================] - 53s 1s/step - loss: 0.1667 - accuracy: 0.9912\n",
            "Epoch 6/15\n",
            "50/50 [==============================] - 55s 1s/step - loss: 3.7067e-04 - accuracy: 1.0000\n",
            "Epoch 7/15\n",
            "50/50 [==============================] - 53s 1s/step - loss: 0.3647 - accuracy: 0.9312\n",
            "Epoch 8/15\n",
            "50/50 [==============================] - 53s 1s/step - loss: 0.0021 - accuracy: 1.0000\n",
            "Epoch 9/15\n",
            "50/50 [==============================] - 55s 1s/step - loss: 1.3401e-04 - accuracy: 1.0000\n",
            "Epoch 10/15\n",
            "50/50 [==============================] - 53s 1s/step - loss: 8.4910e-06 - accuracy: 1.0000\n",
            "Epoch 11/15\n",
            "50/50 [==============================] - 55s 1s/step - loss: 6.5055e-07 - accuracy: 1.0000\n",
            "Epoch 12/15\n",
            "50/50 [==============================] - 53s 1s/step - loss: 0.5067 - accuracy: 0.9650\n",
            "Epoch 13/15\n",
            "50/50 [==============================] - 53s 1s/step - loss: 9.7264e-05 - accuracy: 1.0000\n",
            "Epoch 14/15\n",
            "50/50 [==============================] - 55s 1s/step - loss: 2.7049e-05 - accuracy: 1.0000\n",
            "Epoch 15/15\n",
            "50/50 [==============================] - 53s 1s/step - loss: 3.2038e-06 - accuracy: 1.0000\n",
            "13/13 [==============================] - 4s 279ms/step - loss: 8.8016e-07 - accuracy: 1.0000\n",
            "[8.80163213423657e-07, 1.0]\n"
          ]
        }
      ]
    },
    {
      "cell_type": "code",
      "source": [
        "path = '/content/drive/MyDrive/Colab Notebooks'\n",
        "\n",
        "\n",
        "folder = ['相転移2']\n",
        "\n",
        "X_image = []\n",
        "\n",
        "for label,class_name in enumerate(folder):\n",
        "  files = glob.glob(path + \"/\" +  class_name + \"/*.jpg\")\n",
        "  for file in files:\n",
        "    img = cv2.imread(file)\n",
        "    img = cv2.cvtColor(img, cv2.COLOR_BGR2GRAY)\n",
        "    img = cv2.resize(img,dsize=(180,180))\n",
        "    X_image.append(img)\n",
        "\n",
        "X_image = np.array(X_image)\n",
        "X_image = X_image.astype('float32')\n",
        "X_image /= 255.0\n",
        "\n",
        "print(len(X_image))"
      ],
      "metadata": {
        "colab": {
          "base_uri": "https://localhost:8080/"
        },
        "id": "JDWQJmhgYN-m",
        "outputId": "d14a663c-6533-4d34-ef47-fd944dff0108"
      },
      "execution_count": 5,
      "outputs": [
        {
          "output_type": "stream",
          "name": "stdout",
          "text": [
            "50\n"
          ]
        }
      ]
    },
    {
      "cell_type": "code",
      "source": [
        "history = model.predict(X_image)"
      ],
      "metadata": {
        "colab": {
          "base_uri": "https://localhost:8080/"
        },
        "id": "jg4NhT8zYRUr",
        "outputId": "c2af3fab-78bc-4266-f679-2af6b406b001"
      },
      "execution_count": 6,
      "outputs": [
        {
          "output_type": "stream",
          "name": "stdout",
          "text": [
            "2/2 [==============================] - 1s 329ms/step\n"
          ]
        }
      ]
    },
    {
      "cell_type": "code",
      "source": [
        "# print(history)\n",
        "import matplotlib.pyplot as plt\n",
        "from statistics import mean\n",
        "\n",
        "# print(history)\n",
        "plt.plot(history)\n",
        "\n",
        "# print(history)\n",
        "\n",
        "predict = []\n",
        "\n",
        "\n",
        "\n",
        "# for i in range():\n",
        "\n",
        "\n",
        "for i in range(len(history)):\n",
        "  predict.append(history[i][1])\n",
        "\n",
        "# print(predict)\n",
        "\n",
        "# print(mean(predict[0:9]))\n",
        "\n",
        "# result = []\n",
        "\n",
        "# for i in range(50):\n",
        "#   result.append(mean(predict[10*i:10*i+9]))\n",
        "\n",
        "\n",
        "\n",
        "# print(result)\n",
        "\n",
        "\n",
        "\n",
        "betas=np.linspace(0.05, 1.0, 50).tolist()\n",
        "\n",
        "\n",
        "fig, ax = plt.subplots()\n",
        "ax.errorbar(betas, predict, capsize=4, marker='.')\n",
        "plt.show()"
      ],
      "metadata": {
        "colab": {
          "base_uri": "https://localhost:8080/",
          "height": 513
        },
        "id": "TYzBCBwv0dKZ",
        "outputId": "b39f14fb-7d09-4729-e73b-b4c210f4d1e8"
      },
      "execution_count": 7,
      "outputs": [
        {
          "output_type": "display_data",
          "data": {
            "text/plain": [
              "<Figure size 432x288 with 1 Axes>"
            ],
            "image/png": "[encoded data removed]"
          },
          "metadata": {
            "needs_background": "light"
          }
        },
        {
          "output_type": "display_data",
          "data": {
            "text/plain": [
              "<Figure size 432x288 with 1 Axes>"
            ],
            "image/png": "[encoded data removed]"
          },
          "metadata": {
            "needs_background": "light"
          }
        }
      ]
    },
    {
      "cell_type": "code",
      "source": [
        "# import matplotlib.pyplot as plt\n",
        "# from statistics import mean\n",
        "\n",
        "# # print(history)\n",
        "# # plt.plot(history)\n",
        "\n",
        "# print(history)\n",
        "\n",
        "# predict = []\n",
        "\n",
        "\n",
        "\n",
        "# # for i in range():\n",
        "\n",
        "\n",
        "# for i in range(len(history)):\n",
        "#   predict.append(history[i][1])\n",
        "\n",
        "# # print(predict)\n",
        "\n",
        "# # print(mean(predict[0:9]))\n",
        "\n",
        "# result = []\n",
        "\n",
        "# for i in range(50):\n",
        "#   result.append(mean(predict[10*i:10*i+9]))\n",
        "\n",
        "\n",
        "\n",
        "# # print(result)\n",
        "\n",
        "\n",
        "\n",
        "# betas=np.linspace(0.4, 0.5, 50).tolist()\n",
        "\n",
        "\n",
        "# fig, ax = plt.subplots()\n",
        "# ax.errorbar(betas, result, capsize=4, marker='.')\n",
        "# plt.show()"
      ],
      "metadata": {
        "id": "nygoSU91YRx8"
      },
      "execution_count": 8,
      "outputs": []
    }
  ]
}