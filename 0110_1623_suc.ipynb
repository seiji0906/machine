{
  "nbformat": 4,
  "nbformat_minor": 0,
  "metadata": {
    "colab": {
      "provenance": [],
      "mount_file_id": "1uPeqW35oBR4y8YXCA9T3ZyG6gOU1Kl-k",
      "authorship_tag": "ABX9TyMW99SFdFYR7u4OcehIHOPf",
      "include_colab_link": true
    },
    "kernelspec": {
      "name": "python3",
      "display_name": "Python 3"
    },
    "language_info": {
      "name": "python"
    }
  },
  "cells": [
    {
      "cell_type": "markdown",
      "metadata": {
        "id": "view-in-github",
        "colab_type": "text"
      },
      "source": [
        "<a href=\"https://colab.research.google.com/github/seiji0906/machine/blob/main/0110_1623_suc.ipynb\" target=\"_parent\"><img src=\"https://colab.research.google.com/assets/colab-badge.svg\" alt=\"Open In Colab\"/></a>"
      ]
    },
    {
      "cell_type": "code",
      "execution_count": null,
      "metadata": {
        "id": "LZ7R6otGXvtM"
      },
      "outputs": [],
      "source": [
        "# from numpy.core.fromnumeric import ravel\n",
        "\n",
        "\n",
        "# import numpy as np\n",
        "# import matplotlib.pyplot as plt\n",
        "# import random\n",
        "\n",
        "# from sklearn.model_selection import train_test_split\n",
        "# from sklearn import svm\n",
        "# from sklearn.metrics import accuracy_score\n",
        "\n",
        "#　数値　定義\n",
        "\n",
        "# burn_in = 500\n",
        "# interval = 100\n",
        "\n",
        "# batch_size = 512\n",
        "# epochs = 10"
      ]
    },
    {
      "cell_type": "code",
      "source": [
        "import numpy as np\n",
        "import cv2\n",
        "import glob as glob\n",
        "from keras.utils import np_utils\n",
        "from sklearn.model_selection import train_test_split\n",
        "\n",
        "path = '/content/drive/MyDrive/Colab Notebooks'\n",
        "\n",
        "# まずは、データの確認\n",
        "\n",
        "\n",
        "folder = ['常磁性', '強磁性']\n",
        "\n",
        "X_image = []\n",
        "Y_label = []\n",
        "\n",
        "for label,class_name in enumerate(folder):\n",
        "  files = glob.glob(path + \"/\" +  class_name + \"/*.jpg\")\n",
        "  for file in files:\n",
        "    img = cv2.imread(file)\n",
        "    img = cv2.cvtColor(img, cv2.COLOR_BGR2GRAY)\n",
        "    img = cv2.resize(img,dsize=(180,180))\n",
        "    X_image.append(img)\n",
        "    Y_label.append(label)\n",
        "\n",
        "\n",
        "# sizeを180 180にして、X_imageに格納し、train_test_splitでラベルとともに分けられるかどうかを確認\n",
        "\n",
        "#精度を上げるために正規化\n",
        "X_image = np.array(X_image)\n",
        "X_image = X_image.astype('float32')\n",
        "X_image /= 255.0\n",
        "\n",
        "# ここはモデルのrescalingでやってくれるはず\n",
        "\n",
        "Y_label = np.array(Y_label)\n",
        "Y_label = np_utils.to_categorical(Y_label, len(folder))\n",
        "Y_label[:5]\n",
        "\n",
        "# print(X_image)\n",
        "# print(Y_label)\n",
        "\n",
        "#学習データとテストデータに分ける(テストデータ2割、学習データ8割)\n",
        "X_train,X_test,Y_train,Y_test = train_test_split(X_image,Y_label,test_size=0.2)\n",
        "#学習データ(8割)\n",
        "print(X_train)\n",
        "# #テストデータ(2割)\n",
        "print(X_test)\n",
        "# #学習データ(8割)\n",
        "print(Y_train)\n",
        "# #テストデータ(2割)\n",
        "print(Y_test)\n"
      ],
      "metadata": {
        "id": "JHb-NVoCX89o"
      },
      "execution_count": null,
      "outputs": []
    },
    {
      "cell_type": "code",
      "source": [
        "from tensorflow.python import metrics\n",
        "from warnings import filters\n",
        "from tensorflow import keras\n",
        "from tensorflow.keras import layers\n",
        "\n",
        "inputs = keras.Input(shape=(180, 180, 1))\n",
        "#モノクロなら1、カラーなら3\n",
        "\n",
        "x = layers.Rescaling(1./255)(inputs)\n",
        "x = layers.Conv2D(filters=32, kernel_size=3, activation=\"relu\")(x)\n",
        "x = layers.MaxPooling2D(pool_size=2)(x)\n",
        "x = layers.Conv2D(filters=64, kernel_size=3, activation=\"relu\")(x)\n",
        "x = layers.MaxPooling2D(pool_size=2)(x)\n",
        "x = layers.Conv2D(filters=128, kernel_size=3, activation=\"relu\")(x)\n",
        "x = layers.MaxPooling2D(pool_size=2)(x)\n",
        "x = layers.Conv2D(filters=256, kernel_size=3, activation=\"relu\")(x)\n",
        "x = layers.MaxPooling2D(pool_size=2)(x)\n",
        "x = layers.Flatten()(x)\n",
        "outputs = layers.Dense(2, activation=\"sigmoid\")(x)\n",
        "model = keras.Model(inputs=inputs, outputs=outputs)\n",
        "\n",
        "model.summary()\n",
        "\n",
        "model.compile(loss=\"binary_crossentropy\",\n",
        "              optimizer=\"rmsprop\",\n",
        "              metrics=[\"accuracy\"])"
      ],
      "metadata": {
        "colab": {
          "base_uri": "https://localhost:8080/"
        },
        "id": "Hvi_yd58aYow",
        "outputId": "dce3b6bf-e0d9-4970-b557-8af230650ae3"
      },
      "execution_count": 22,
      "outputs": [
        {
          "output_type": "stream",
          "name": "stdout",
          "text": [
            "Model: \"model_5\"\n",
            "_________________________________________________________________\n",
            " Layer (type)                Output Shape              Param #   \n",
            "=================================================================\n",
            " input_11 (InputLayer)       [(None, 180, 180, 1)]     0         \n",
            "                                                                 \n",
            " rescaling_9 (Rescaling)     (None, 180, 180, 1)       0         \n",
            "                                                                 \n",
            " conv2d_11 (Conv2D)          (None, 178, 178, 32)      320       \n",
            "                                                                 \n",
            " max_pooling2d_10 (MaxPoolin  (None, 89, 89, 32)       0         \n",
            " g2D)                                                            \n",
            "                                                                 \n",
            " conv2d_12 (Conv2D)          (None, 87, 87, 64)        18496     \n",
            "                                                                 \n",
            " max_pooling2d_11 (MaxPoolin  (None, 43, 43, 64)       0         \n",
            " g2D)                                                            \n",
            "                                                                 \n",
            " conv2d_13 (Conv2D)          (None, 41, 41, 128)       73856     \n",
            "                                                                 \n",
            " max_pooling2d_12 (MaxPoolin  (None, 20, 20, 128)      0         \n",
            " g2D)                                                            \n",
            "                                                                 \n",
            " conv2d_14 (Conv2D)          (None, 18, 18, 256)       295168    \n",
            "                                                                 \n",
            " max_pooling2d_13 (MaxPoolin  (None, 9, 9, 256)        0         \n",
            " g2D)                                                            \n",
            "                                                                 \n",
            " flatten_6 (Flatten)         (None, 20736)             0         \n",
            "                                                                 \n",
            " dense_6 (Dense)             (None, 2)                 41474     \n",
            "                                                                 \n",
            "=================================================================\n",
            "Total params: 429,314\n",
            "Trainable params: 429,314\n",
            "Non-trainable params: 0\n",
            "_________________________________________________________________\n"
          ]
        }
      ]
    },
    {
      "cell_type": "code",
      "source": [
        "# # 学習\n",
        "\n",
        "# from keras.applications.vgg16 import VGG16\n",
        "# from keras.models import Sequential\n",
        "# from keras.models import model_from_json\n",
        "# from keras.models import Model\n",
        "# from keras.layers import Input, Activation, Dense, Flatten, Dropout\n",
        "# from tensorflow.keras.optimizers import Adam\n",
        "\n",
        "# #vgg16\n",
        "# input_tensor = Input(shape=(224,224,3))\n",
        "# #最後の1000の層を省く\n",
        "# base_model = VGG16(weights='imagenet', input_tensor=input_tensor,include_top=False)\n",
        "\n",
        "\n",
        "# #後付けで入れたい層の作成\n",
        "# top_model = Sequential()\n",
        "# top_model.add(Flatten(input_shape=base_model.output_shape[1:]))\n",
        "# top_model.add(Dense(len(folder), activation='softmax'))\n",
        "\n",
        "\n",
        "# #結合\n",
        "# model = Model(inputs=base_model.input, outputs=top_model(base_model.output))\n",
        "\n",
        "\n",
        "# #学習させない層\n",
        "# for layer in model.layers[:15]:\n",
        "#   layer.trainable = False\n",
        "\n",
        "# print('# layers=', len(model.layers))\n",
        "\n",
        "# model.compile(loss='categorical_crossentropy',optimizer='adam',metrics=['accuracy'])\n",
        "\n",
        "# model.summary()"
      ],
      "metadata": {
        "id": "1HVGsA-sYEOv"
      },
      "execution_count": null,
      "outputs": []
    },
    {
      "cell_type": "code",
      "source": [
        "# 学習データで学習\n",
        "model.fit(X_train, Y_train, epochs=10, batch_size=16)\n",
        "\n",
        "#テストデータで精度確認\n",
        "score = model.evaluate(X_test, Y_test, batch_size=16)\n",
        "\n",
        "print(score)"
      ],
      "metadata": {
        "colab": {
          "base_uri": "https://localhost:8080/"
        },
        "id": "j1gLsWHXYIXC",
        "outputId": "0117484a-fa8b-4f44-b752-633e6ef68670"
      },
      "execution_count": 23,
      "outputs": [
        {
          "output_type": "stream",
          "name": "stdout",
          "text": [
            "Epoch 1/10\n",
            "50/50 [==============================] - 59s 1s/step - loss: 0.7100 - accuracy: 0.5412\n",
            "Epoch 2/10\n",
            "50/50 [==============================] - 53s 1s/step - loss: 0.6807 - accuracy: 0.5813\n",
            "Epoch 3/10\n",
            "50/50 [==============================] - 53s 1s/step - loss: 0.5734 - accuracy: 0.6975\n",
            "Epoch 4/10\n",
            "50/50 [==============================] - 53s 1s/step - loss: 0.2305 - accuracy: 0.9362\n",
            "Epoch 5/10\n",
            "50/50 [==============================] - 53s 1s/step - loss: 0.2850 - accuracy: 0.9375\n",
            "Epoch 6/10\n",
            "50/50 [==============================] - 53s 1s/step - loss: 0.0681 - accuracy: 0.9825\n",
            "Epoch 7/10\n",
            "50/50 [==============================] - 57s 1s/step - loss: 0.3035 - accuracy: 0.8750\n",
            "Epoch 8/10\n",
            "50/50 [==============================] - 53s 1s/step - loss: 0.2579 - accuracy: 0.9425\n",
            "Epoch 9/10\n",
            "50/50 [==============================] - 53s 1s/step - loss: 0.0396 - accuracy: 0.9837\n",
            "Epoch 10/10\n",
            "50/50 [==============================] - 53s 1s/step - loss: 0.2676 - accuracy: 0.9688\n",
            "13/13 [==============================] - 4s 277ms/step - loss: 0.0020 - accuracy: 1.0000\n",
            "[0.0019763042218983173, 1.0]\n"
          ]
        }
      ]
    },
    {
      "cell_type": "code",
      "source": [
        "path = '/content/drive/MyDrive/Colab Notebooks'\n",
        "\n",
        "\n",
        "folder = ['相転移']\n",
        "\n",
        "X_image = []\n",
        "# Y_label = []\n",
        "\n",
        "for label,class_name in enumerate(folder):\n",
        "  files = glob.glob(path + \"/\" +  class_name + \"/*.jpg\")\n",
        "  for file in files:\n",
        "    img = cv2.imread(file)\n",
        "    img = cv2.cvtColor(img, cv2.COLOR_BGR2GRAY)\n",
        "    img = cv2.resize(img,dsize=(180,180))\n",
        "    X_image.append(img)\n",
        "    # Y_label.append(label)\n",
        "\n",
        "#精度を上げるために正規化\n",
        "X_image = np.array(X_image)\n",
        "X_image = X_image.astype('float32')\n",
        "X_image /= 255.0\n",
        "\n",
        "# Y_label = np.array(Y_label)\n",
        "# Y_label = np_utils.to_categorical(Y_label, len(folder))\n",
        "# Y_label[:5]\n",
        "\n",
        "# #学習データとテストデータに分ける(テストデータ2割、学習データ8割)\n",
        "# X_train,X_test,Y_train,Y_test = train_test_split(X_image,Y_label,test_size=0.2)\n",
        "# #学習データ(8割)\n",
        "# print(X_train.shape)\n",
        "# #テストデータ(2割)\n",
        "# print(X_test.shape)\n",
        "# #学習データ(8割)\n",
        "# print(Y_train.shape)\n",
        "# #テストデータ(2割)\n",
        "# print(Y_test.shape)\n",
        "print(len(X_image))"
      ],
      "metadata": {
        "colab": {
          "base_uri": "https://localhost:8080/"
        },
        "id": "JDWQJmhgYN-m",
        "outputId": "eb4d5db0-06ce-414a-be46-a81b00b76256"
      },
      "execution_count": 24,
      "outputs": [
        {
          "output_type": "stream",
          "name": "stdout",
          "text": [
            "50\n"
          ]
        }
      ]
    },
    {
      "cell_type": "code",
      "source": [
        "history = model.predict(X_image)"
      ],
      "metadata": {
        "colab": {
          "base_uri": "https://localhost:8080/"
        },
        "id": "jg4NhT8zYRUr",
        "outputId": "a7f1c70f-d3bd-4205-aa5e-5aacef6e6f97"
      },
      "execution_count": 25,
      "outputs": [
        {
          "output_type": "stream",
          "name": "stdout",
          "text": [
            "2/2 [==============================] - 1s 340ms/step\n"
          ]
        }
      ]
    },
    {
      "cell_type": "code",
      "source": [
        "import matplotlib.pyplot as plt\n",
        "\n",
        "\n",
        "# print(history)\n",
        "# plt.plot(history)\n",
        "\n",
        "# print(history)\n",
        "\n",
        "predict = []\n",
        "\n",
        "for i in range(len(history)):\n",
        "  predict.append(history[i][1])\n",
        "\n",
        "betas=np.linspace(0.4, 0.5, 50).tolist()\n",
        "\n",
        "\n",
        "fig, ax = plt.subplots()\n",
        "ax.errorbar(betas, predict, capsize=4, marker='.')\n",
        "plt.show()"
      ],
      "metadata": {
        "colab": {
          "base_uri": "https://localhost:8080/",
          "height": 265
        },
        "id": "nygoSU91YRx8",
        "outputId": "804bea88-2154-4b1e-f444-3735a562e983"
      },
      "execution_count": 28,
      "outputs": [
        {
          "output_type": "display_data",
          "data": {
            "text/plain": [
              "<Figure size 432x288 with 1 Axes>"
            ],
            "image/png": "[encoded data removed]"
          },
          "metadata": {
            "needs_background": "light"
          }
        }
      ]
    }
  ]
}