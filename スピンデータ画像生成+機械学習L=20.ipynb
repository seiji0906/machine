{
  "nbformat": 4,
  "nbformat_minor": 0,
  "metadata": {
    "colab": {
      "provenance": [],
      "include_colab_link": true
    },
    "kernelspec": {
      "name": "python3",
      "display_name": "Python 3"
    },
    "language_info": {
      "name": "python"
    }
  },
  "cells": [
    {
      "cell_type": "markdown",
      "metadata": {
        "id": "view-in-github",
        "colab_type": "text"
      },
      "source": [
        "<a href=\"https://colab.research.google.com/github/seiji0906/machine/blob/main/%E3%82%B9%E3%83%92%E3%82%9A%E3%83%B3%E3%83%86%E3%82%99%E3%83%BC%E3%82%BF%E7%94%BB%E5%83%8F%E7%94%9F%E6%88%90%2B%E6%A9%9F%E6%A2%B0%E5%AD%A6%E7%BF%92L%3D20.ipynb\" target=\"_parent\"><img src=\"https://colab.research.google.com/assets/colab-badge.svg\" alt=\"Open In Colab\"/></a>"
      ]
    },
    {
      "cell_type": "code",
      "source": [
        "from google.colab import drive\n",
        "drive.mount('/content/drive')"
      ],
      "metadata": {
        "colab": {
          "base_uri": "https://localhost:8080/"
        },
        "id": "OJ7FzTKLXeYi",
        "outputId": "cf90fea1-e0a6-4d8f-c124-79649581fd39"
      },
      "execution_count": 1,
      "outputs": [
        {
          "output_type": "stream",
          "name": "stdout",
          "text": [
            "Drive already mounted at /content/drive; to attempt to forcibly remount, call drive.mount(\"/content/drive\", force_remount=True).\n"
          ]
        }
      ]
    },
    {
      "cell_type": "code",
      "source": [
        "L=20"
      ],
      "metadata": {
        "id": "WQqqWihX8wjh"
      },
      "execution_count": 2,
      "outputs": []
    },
    {
      "cell_type": "code",
      "execution_count": 3,
      "metadata": {
        "id": "KUpNBvv8Zo0-"
      },
      "outputs": [],
      "source": [
        "from numpy.core.fromnumeric import ravel\n",
        "# データの作成\n",
        "import os\n",
        "import shutil\n",
        "import numpy as np\n",
        "import matplotlib.pyplot as plt\n",
        "import random\n",
        "\n",
        "from sklearn.model_selection import train_test_split\n",
        "from sklearn import svm\n",
        "from sklearn.metrics import accuracy_score"
      ]
    },
    {
      "cell_type": "code",
      "source": [
        "def neighor_spin_sum(s, x, y):\n",
        "    x_right=x+1\n",
        "    x_left=x-1\n",
        "    y_up=y+1\n",
        "    y_down=y-1\n",
        "\n",
        "    # 周期境界条件\n",
        "    if x_right>=Nx:\n",
        "        x_right-=Nx\n",
        "    if x_left<0:\n",
        "        x_left+=Nx\n",
        "    if y_up>=Ny:\n",
        "        y_up-=Ny\n",
        "    if y_down<0:\n",
        "        y_down+=Ny\n",
        "\n",
        "    neighor_spin_sum=s[x_right][y]+s[x_left][y]+s[x][y_up]+s[x][y_down]\n",
        "    return neighor_spin_sum"
      ],
      "metadata": {
        "id": "Ut46TAswZ5JX"
      },
      "execution_count": 4,
      "outputs": []
    },
    {
      "cell_type": "code",
      "source": [
        "def calc_energy(s, h=0.01):\n",
        "    energy = 0\n",
        "    for x in range(Nx):\n",
        "        for y in range(Ny):\n",
        "            # dobule count\n",
        "            energy += - neighor_spin_sum(s, x, y)/2\n",
        "    energy += h*np.sum(s)\n",
        "    return energy"
      ],
      "metadata": {
        "id": "nfEJ_iv1Z7bf"
      },
      "execution_count": 5,
      "outputs": []
    },
    {
      "cell_type": "code",
      "source": [
        "def gibbs_sampling(s, beta=1.0, h=0.0):\n",
        "    xs=list(range(Nx))\n",
        "    random.shuffle(xs)\n",
        "    ys=list(range(Ny))\n",
        "    random.shuffle(ys)\n",
        "    for x in xs:\n",
        "        for y in ys:\n",
        "            k=neighor_spin_sum(s, x, y)-h\n",
        "            trans_prob = np.exp(beta*k) / (np.exp(beta*k)+np.exp(-beta*k))\n",
        "            if np.random.random()<=trans_prob:\n",
        "                s[x][y]=1\n",
        "            else:\n",
        "                s[x][y]=-1\n",
        "    return s"
      ],
      "metadata": {
        "id": "juEEdkH2Z_yE"
      },
      "execution_count": 6,
      "outputs": []
    },
    {
      "cell_type": "code",
      "source": [
        "# folder = r\"drive/MyDrive/Colab Notebooks/常磁性L={}\".format(L)\n",
        "# import shutil\n",
        "\n",
        "# if os.path.exists(folder):\n",
        "#   shutil.rmtree(folder)\n",
        "  \n",
        "# if not os.path.exists(folder):\n",
        "#   os.mkdir(folder)"
      ],
      "metadata": {
        "id": "dW9ai9sEfxrP"
      },
      "execution_count": 7,
      "outputs": []
    },
    {
      "cell_type": "code",
      "source": [
        "# 相転移データ作成\n",
        "import matplotlib.animation as animation\n",
        "from matplotlib import rc\n",
        "import cv2\n",
        "import glob as glob\n",
        "from keras.utils import np_utils\n",
        "from sklearn.model_selection import train_test_split\n",
        "\n",
        "\n",
        "folder = r\"drive/MyDrive/Colab Notebooks/常磁性L={}\".format(L)\n",
        "if os.path.exists(folder):\n",
        "  shutil.rmtree(folder)\n",
        "if not os.path.exists(folder):\n",
        "  os.mkdir(folder)\n",
        "\n",
        "path = '/content/drive/MyDrive/Colab Notebooks'\n",
        "\n",
        "Nx = L\n",
        "Ny = L\n",
        "steps=100\n",
        "# 初期配位\n",
        "\n",
        "# betas=np.linspace(0.005, 0.05, 50).tolist()\n",
        "# betas=np.linspace(1.0, 2.0,50).tolist()\n",
        "# betas=np.linspace(0.3, 0.6, 300).tolist()\n",
        "# betas=np.linspace(0.05, 1.0, 50).tolist()\n",
        "# betas=np.linspace(0.3, 0.6, 50).tolist()\n",
        "# betas=np.linspace(0.5, 1.0, 50).tolist()\n",
        "# betas=np.linspace(0.25, 0.5, 100).tolist()\n",
        "betas=np.linspace(0.1, 0.4, 50).tolist()\n",
        "# betas=np.linspace(0.4, 0.5, 50).tolist()\n",
        "\n",
        "for beta in betas:\n",
        "\n",
        "  fig, ax = plt.subplots(figsize=(6,6))\n",
        "  ax.axis(\"off\")\n",
        "\n",
        "  s = np.random.randint(0, 2, (Nx, Ny)).tolist()\n",
        "\n",
        "  for i in range(20):\n",
        "\n",
        "    for step in range(steps):\n",
        "      s = gibbs_sampling(s, beta=beta, h=0)\n",
        "\n",
        "      if step>=99:\n",
        "        im = ax.imshow(s, animated=True)\n",
        "\n",
        "        fig.subplots_adjust(left=0, right=1, bottom=0, top=1)\n",
        "        filename = '/content/drive/MyDrive/Colab Notebooks/常磁性L={}/beta={}_step={}.jpg'.format(L, beta, i)\n",
        "        # filename = '/content/drive/MyDrive/Colab Notebooks/強磁性0125/beta={}_step={}.jpg'.format(beta, i)\n",
        "        # filename = '/content/drive/MyDrive/Colab Notebooks/相転移0.4_0.5/beta={}_{}.jpg'.format(beta, i)\n",
        "\n",
        "        plt.savefig(filename)\n",
        "        print(filename)\n",
        "      \n",
        "  plt.close()"
      ],
      "metadata": {
        "id": "4_t-xqVFVT4I"
      },
      "execution_count": null,
      "outputs": []
    },
    {
      "cell_type": "code",
      "source": [
        "# 相転移データ作成\n",
        "import matplotlib.animation as animation\n",
        "from matplotlib import rc\n",
        "import cv2\n",
        "import glob as glob\n",
        "from keras.utils import np_utils\n",
        "from sklearn.model_selection import train_test_split\n",
        "\n",
        "folder = r\"drive/MyDrive/Colab Notebooks/強磁性L={}\".format(L)\n",
        "if os.path.exists(folder):\n",
        "  shutil.rmtree(folder)\n",
        "if not os.path.exists(folder):\n",
        "  os.mkdir(folder)\n",
        "\n",
        "path = '/content/drive/MyDrive/Colab Notebooks'\n",
        "\n",
        "Nx = L\n",
        "Ny = L\n",
        "steps=100\n",
        "# 初期配位\n",
        "\n",
        "# betas=np.linspace(0.005, 0.05, 50).tolist()\n",
        "# betas=np.linspace(1.0, 2.0,50).tolist()\n",
        "# betas=np.linspace(0.3, 0.6, 300).tolist()\n",
        "# betas=np.linspace(0.05, 1.0, 50).tolist()\n",
        "# betas=np.linspace(0.3, 0.6, 50).tolist()\n",
        "# betas=np.linspace(0.5, 1.0, 50).tolist()\n",
        "# betas=np.linspace(0.25, 0.5, 100).tolist()\n",
        "# betas=np.linspace(0.1, 0.4, 50).tolist()\n",
        "betas=np.linspace(0.5, 1.0, 50).tolist()\n",
        "# betas=np.linspace(0.4, 0.5, 50).tolist()\n",
        "\n",
        "for beta in betas:\n",
        "\n",
        "  fig, ax = plt.subplots(figsize=(6,6))\n",
        "  ax.axis(\"off\")\n",
        "\n",
        "  s = np.random.randint(0, 2, (Nx, Ny)).tolist()\n",
        "\n",
        "  for i in range(20):\n",
        "\n",
        "    for step in range(steps):\n",
        "      s = gibbs_sampling(s, beta=beta, h=0)\n",
        "\n",
        "      if step>=99:\n",
        "        im = ax.imshow(s, animated=True)\n",
        "\n",
        "        fig.subplots_adjust(left=0, right=1, bottom=0, top=1)\n",
        "        # filename = '/content/drive/MyDrive/Colab Notebooks/常磁性L=100/beta={}_step={}.jpg'.format(beta, i)\n",
        "        filename = '/content/drive/MyDrive/Colab Notebooks/強磁性L={}/beta={}_step={}.jpg'.format(L, beta, i)\n",
        "        # filename = '/content/drive/MyDrive/Colab Notebooks/相転移0.4_0.5/beta={}_{}.jpg'.format(beta, i)\n",
        "\n",
        "        plt.savefig(filename)\n",
        "        print(filename)\n",
        "      \n",
        "  plt.close()"
      ],
      "metadata": {
        "id": "astDFMQXXqU6"
      },
      "execution_count": null,
      "outputs": []
    },
    {
      "cell_type": "code",
      "source": [
        "# 相転移データ作成\n",
        "import matplotlib.animation as animation\n",
        "from matplotlib import rc\n",
        "import cv2\n",
        "import glob as glob\n",
        "from keras.utils import np_utils\n",
        "from sklearn.model_selection import train_test_split\n",
        "\n",
        "folder = r\"drive/MyDrive/Colab Notebooks/相転移L={}\".format(L)\n",
        "if os.path.exists(folder):\n",
        "  shutil.rmtree(folder)\n",
        "if not os.path.exists(folder):\n",
        "  os.mkdir(folder)\n",
        "\n",
        "path = '/content/drive/MyDrive/Colab Notebooks'\n",
        "\n",
        "Nx = L\n",
        "Ny = L\n",
        "steps=100\n",
        "# 初期配位\n",
        "\n",
        "# betas=np.linspace(0.005, 0.05, 50).tolist()\n",
        "# betas=np.linspace(1.0, 2.0,50).tolist()\n",
        "# betas=np.linspace(0.3, 0.6, 300).tolist()\n",
        "# betas=np.linspace(0.05, 1.0, 50).tolist()\n",
        "# betas=np.linspace(0.3, 0.6, 50).tolist()\n",
        "# betas=np.linspace(0.5, 1.0, 50).tolist()\n",
        "# betas=np.linspace(0.25, 0.5, 100).tolist()\n",
        "# betas=np.linspace(0.1, 0.4, 50).tolist()\n",
        "# betas=np.linspace(0.5, 1.0, 50).tolist()\n",
        "betas=np.linspace(0.4, 0.5, 50).tolist()\n",
        "\n",
        "for beta in betas:\n",
        "\n",
        "  fig, ax = plt.subplots(figsize=(6,6))\n",
        "  ax.axis(\"off\")\n",
        "\n",
        "  s = np.random.randint(0, 2, (Nx, Ny)).tolist()\n",
        "\n",
        "  for i in range(20):\n",
        "\n",
        "    for step in range(steps):\n",
        "      s = gibbs_sampling(s, beta=beta, h=0)\n",
        "\n",
        "      if step>=99:\n",
        "        im = ax.imshow(s, animated=True)\n",
        "\n",
        "        fig.subplots_adjust(left=0, right=1, bottom=0, top=1)\n",
        "        # filename = '/content/drive/MyDrive/Colab Notebooks/常磁性L=100/beta={}_step={}.jpg'.format(beta, i)\n",
        "        # filename = '/content/drive/MyDrive/Colab Notebooks/強磁性L=100/beta={}_step={}.jpg'.format(beta, i)\n",
        "        filename = '/content/drive/MyDrive/Colab Notebooks/相転移L={}/beta={}_step={}.jpg'.format(L, beta, i)\n",
        "\n",
        "        plt.savefig(filename)\n",
        "        print(filename)\n",
        "      \n",
        "  plt.close()"
      ],
      "metadata": {
        "id": "hQt6W7vFX6Kd"
      },
      "execution_count": null,
      "outputs": []
    },
    {
      "cell_type": "code",
      "source": [
        "# # 温度指定\n",
        "\n",
        "# import matplotlib.animation as animation\n",
        "# from matplotlib import rc\n",
        "\n",
        "\n",
        "# Nx = 100\n",
        "# Ny = 100\n",
        "# steps=100\n",
        "# # 初期配位\n",
        "\n",
        "# fig, ax = plt.subplots(figsize=(6,6))\n",
        "# ax.axis(\"off\")\n",
        "# ims = []\n",
        "\n",
        "# s = np.random.randint(0, 2, (Nx, Ny)).tolist()\n",
        "\n",
        "# for step in range(steps):\n",
        "#   s = gibbs_sampling(s, beta=0.1, h=0)\n",
        "#   if step>=0:\n",
        "#     im = ax.imshow(s, animated=True)\n",
        "#     ims.append([im])\n",
        "\n",
        "#     fig.subplots_adjust(left=0, right=1, bottom=0, top=1)\n",
        "#     filename = '/content/drive/MyDrive/Colab Notebooks/テスト/beta=0,8_steps={}.jpg'.format(step)\n",
        "#     # plt.savefig(filename)\n",
        "#     print(filename)\n",
        "    \n",
        "\n",
        "# # ArtistAnimationにfigオブジェクトとimsを代入してアニメーションを作成\n",
        "# anim = animation.ArtistAnimation(fig, ims)\n",
        "# # Google Colaboratoryの場合必要\n",
        "# rc('animation', html='jshtml')\n",
        "# plt.close()\n",
        "# anim"
      ],
      "metadata": {
        "id": "V2hE26j-NtRg"
      },
      "execution_count": 11,
      "outputs": []
    },
    {
      "cell_type": "code",
      "source": [],
      "metadata": {
        "id": "7wJxc78GYVHs"
      },
      "execution_count": 11,
      "outputs": []
    },
    {
      "cell_type": "code",
      "source": [
        "# 値設定\n",
        "\n",
        "maxbeta = 0.5\n",
        "minbeta = 0.4\n",
        "folder_name = '相転移L={}'.format(L)\n",
        "epoch = 10\n",
        "batch_size = 32\n",
        "split = 50"
      ],
      "metadata": {
        "id": "IKpqpGPe0pYK"
      },
      "execution_count": 12,
      "outputs": []
    },
    {
      "cell_type": "code",
      "execution_count": 13,
      "metadata": {
        "colab": {
          "base_uri": "https://localhost:8080/"
        },
        "id": "Ky2dfrDIn88D",
        "outputId": "7f8b7b0d-67ce-47ad-b2cb-a0a97fda7309"
      },
      "outputs": [
        {
          "output_type": "stream",
          "name": "stdout",
          "text": [
            "1600\n",
            "400\n"
          ]
        }
      ],
      "source": [
        "import numpy as np\n",
        "import cv2\n",
        "import glob as glob\n",
        "from keras.utils import np_utils\n",
        "from sklearn.model_selection import train_test_split\n",
        "\n",
        "path = '/content/drive/MyDrive/Colab Notebooks'\n",
        "\n",
        "\n",
        "filename1 = '常磁性L={}'.format(L)\n",
        "filename2 = '強磁性L={}'.format(L)\n",
        "\n",
        "folder = [filename1, filename2]\n",
        "\n",
        "X_image = []\n",
        "Y_label = []\n",
        "\n",
        "for label,class_name in enumerate(folder):\n",
        "  files = glob.glob(path + \"/\" +  class_name + \"/*.jpg\")\n",
        "  for file in files:\n",
        "    img = cv2.imread(file)\n",
        "    img = cv2.cvtColor(img, cv2.COLOR_BGR2GRAY)\n",
        "    img = cv2.resize(img,dsize=(180,180))\n",
        "    X_image.append(img)\n",
        "    Y_label.append(label)\n",
        "\n",
        "X_image = np.array(X_image)\n",
        "X_image = X_image.astype('float32')\n",
        "X_image /= 255.0\n",
        "\n",
        "Y_label = np.array(Y_label)\n",
        "Y_label = np_utils.to_categorical(Y_label, len(folder))\n",
        "Y_label[:5]\n",
        "\n",
        "\n",
        "\n",
        "X_train,X_test,Y_train,Y_test = train_test_split(X_image,Y_label,test_size=0.2, shuffle=True)\n",
        "\n",
        "print(len(X_train))\n",
        "print(len(X_test))"
      ]
    },
    {
      "cell_type": "code",
      "source": [
        "from tensorflow.python import metrics\n",
        "from warnings import filters\n",
        "from tensorflow import keras\n",
        "from tensorflow.keras import layers\n",
        "\n",
        "inputs = keras.Input(shape=(180, 180, 1))\n",
        "\n",
        "leaky_relu = keras.layers.LeakyReLU(alpha=0.2)\n",
        "\n",
        "adam = keras.optimizers.Adam(lr=0.001, beta_1=0.9, beta_2=0.999, epsilon=None, decay=0.0, amsgrad=False)\n",
        "\n",
        "\n",
        "x = layers.Rescaling(1./255)(inputs)\n",
        "x = layers.Conv2D(filters=32, kernel_size=3, activation=leaky_relu)(x)\n",
        "x = layers.MaxPooling2D(pool_size=2)(x)\n",
        "x = layers.Conv2D(filters=64, kernel_size=3, activation=leaky_relu)(x)\n",
        "x = layers.MaxPooling2D(pool_size=2)(x)\n",
        "x = layers.Conv2D(filters=128, kernel_size=3, activation=leaky_relu)(x)\n",
        "x = layers.MaxPooling2D(pool_size=2)(x)\n",
        "x = layers.Conv2D(filters=256, kernel_size=3, activation=leaky_relu)(x)\n",
        "x = layers.MaxPooling2D(pool_size=2)(x)\n",
        "x = layers.Flatten()(x)\n",
        "outputs = layers.Dense(2, activation=\"sigmoid\")(x)\n",
        "model = keras.Model(inputs=inputs, outputs=outputs)\n",
        "\n",
        "model.summary()\n",
        "\n",
        "model.compile(loss=\"binary_crossentropy\",\n",
        "              optimizer=adam,\n",
        "              metrics=[\"accuracy\"])"
      ],
      "metadata": {
        "colab": {
          "base_uri": "https://localhost:8080/"
        },
        "id": "16wXpC-Fn_uW",
        "outputId": "ca8f33ab-f192-4e5c-90bf-51f0a8b388ec"
      },
      "execution_count": 14,
      "outputs": [
        {
          "output_type": "stream",
          "name": "stderr",
          "text": [
            "/usr/local/lib/python3.8/dist-packages/keras/optimizers/optimizer_v2/adam.py:110: UserWarning: The `lr` argument is deprecated, use `learning_rate` instead.\n",
            "  super(Adam, self).__init__(name, **kwargs)\n"
          ]
        },
        {
          "output_type": "stream",
          "name": "stdout",
          "text": [
            "Model: \"model\"\n",
            "_________________________________________________________________\n",
            " Layer (type)                Output Shape              Param #   \n",
            "=================================================================\n",
            " input_1 (InputLayer)        [(None, 180, 180, 1)]     0         \n",
            "                                                                 \n",
            " rescaling (Rescaling)       (None, 180, 180, 1)       0         \n",
            "                                                                 \n",
            " conv2d (Conv2D)             (None, 178, 178, 32)      320       \n",
            "                                                                 \n",
            " max_pooling2d (MaxPooling2D  (None, 89, 89, 32)       0         \n",
            " )                                                               \n",
            "                                                                 \n",
            " conv2d_1 (Conv2D)           (None, 87, 87, 64)        18496     \n",
            "                                                                 \n",
            " max_pooling2d_1 (MaxPooling  (None, 43, 43, 64)       0         \n",
            " 2D)                                                             \n",
            "                                                                 \n",
            " conv2d_2 (Conv2D)           (None, 41, 41, 128)       73856     \n",
            "                                                                 \n",
            " max_pooling2d_2 (MaxPooling  (None, 20, 20, 128)      0         \n",
            " 2D)                                                             \n",
            "                                                                 \n",
            " conv2d_3 (Conv2D)           (None, 18, 18, 256)       295168    \n",
            "                                                                 \n",
            " max_pooling2d_3 (MaxPooling  (None, 9, 9, 256)        0         \n",
            " 2D)                                                             \n",
            "                                                                 \n",
            " flatten (Flatten)           (None, 20736)             0         \n",
            "                                                                 \n",
            " dense (Dense)               (None, 2)                 41474     \n",
            "                                                                 \n",
            "=================================================================\n",
            "Total params: 429,314\n",
            "Trainable params: 429,314\n",
            "Non-trainable params: 0\n",
            "_________________________________________________________________\n"
          ]
        }
      ]
    },
    {
      "cell_type": "code",
      "source": [
        "# 学習データで学習\n",
        "# model.fit(X_train, Y_train, epochs=10, batch_size=64)\n",
        "model.fit(X_train, Y_train, epochs=epoch, batch_size=batch_size)\n",
        "\n",
        "#テストデータで精度確認\n",
        "score = model.evaluate(X_test, Y_test, batch_size=batch_size)"
      ],
      "metadata": {
        "colab": {
          "base_uri": "https://localhost:8080/"
        },
        "id": "NSyo8fyfoei9",
        "outputId": "d8fc5caf-0024-4075-b639-b590b79eee7d"
      },
      "execution_count": 15,
      "outputs": [
        {
          "output_type": "stream",
          "name": "stdout",
          "text": [
            "Epoch 1/10\n",
            "50/50 [==============================] - 103s 2s/step - loss: 0.6960 - accuracy: 0.4956\n",
            "Epoch 2/10\n",
            "50/50 [==============================] - 106s 2s/step - loss: 0.6938 - accuracy: 0.5175\n",
            "Epoch 3/10\n",
            "50/50 [==============================] - 102s 2s/step - loss: 0.6956 - accuracy: 0.4925\n",
            "Epoch 4/10\n",
            "50/50 [==============================] - 107s 2s/step - loss: 0.6932 - accuracy: 0.5069\n",
            "Epoch 5/10\n",
            "50/50 [==============================] - 102s 2s/step - loss: 0.6933 - accuracy: 0.4981\n",
            "Epoch 6/10\n",
            "50/50 [==============================] - 101s 2s/step - loss: 0.6940 - accuracy: 0.5069\n",
            "Epoch 7/10\n",
            "50/50 [==============================] - 107s 2s/step - loss: 0.6885 - accuracy: 0.5419\n",
            "Epoch 8/10\n",
            "50/50 [==============================] - 102s 2s/step - loss: 0.6926 - accuracy: 0.5337\n",
            "Epoch 9/10\n",
            "50/50 [==============================] - 107s 2s/step - loss: 0.4150 - accuracy: 0.8213\n",
            "Epoch 10/10\n",
            "50/50 [==============================] - 102s 2s/step - loss: 0.0467 - accuracy: 0.9862\n",
            "13/13 [==============================] - 7s 548ms/step - loss: 7.7790e-04 - accuracy: 1.0000\n"
          ]
        }
      ]
    },
    {
      "cell_type": "code",
      "source": [
        "path = '/content/drive/MyDrive/Colab Notebooks'\n",
        "\n",
        "\n",
        "folder = [folder_name]\n",
        "\n",
        "X_image = []\n",
        "\n",
        "for label,class_name in enumerate(folder):\n",
        "  files = glob.glob(path + \"/\" +  class_name + \"/*.jpg\")\n",
        "  for file in files:\n",
        "    img = cv2.imread(file)\n",
        "    img = cv2.cvtColor(img, cv2.COLOR_BGR2GRAY)\n",
        "    img = cv2.resize(img,dsize=(180,180))\n",
        "    X_image.append(img)\n",
        "\n",
        "X_image = np.array(X_image)\n",
        "X_image = X_image.astype('float32')\n",
        "X_image /= 255.0\n",
        "\n",
        "print(len(X_image))"
      ],
      "metadata": {
        "colab": {
          "base_uri": "https://localhost:8080/"
        },
        "id": "i2yFrIfNohOU",
        "outputId": "0f0f07e0-105f-4642-ce36-32b17ed30780"
      },
      "execution_count": 16,
      "outputs": [
        {
          "output_type": "stream",
          "name": "stdout",
          "text": [
            "1000\n"
          ]
        }
      ]
    },
    {
      "cell_type": "code",
      "source": [
        "history = model.predict(X_image)"
      ],
      "metadata": {
        "colab": {
          "base_uri": "https://localhost:8080/"
        },
        "id": "7CnmoSYQokr6",
        "outputId": "478111b7-c0f4-4267-f421-9b388836dd96"
      },
      "execution_count": 17,
      "outputs": [
        {
          "output_type": "stream",
          "name": "stdout",
          "text": [
            "32/32 [==============================] - 18s 565ms/step\n"
          ]
        }
      ]
    },
    {
      "cell_type": "code",
      "source": [
        "import matplotlib.pyplot as plt\n",
        "from statistics import mean\n",
        "\n",
        "# plt.plot(history)\n",
        "\n",
        "predict = []\n",
        "\n",
        "for i in range(len(history)):\n",
        "  predict.append(history[i][1])\n",
        "\n",
        "\n",
        "result = []\n",
        "\n",
        "p = 0\n",
        "\n",
        "for i in range(split):\n",
        "  for j in range(20):\n",
        "    p += predict[i*20+j]\n",
        "  result.append(p / 20)\n",
        "  p = 0\n",
        "\n",
        "betas=np.linspace(minbeta, maxbeta, split).tolist()\n",
        "T = list(map(lambda x: 1/x, betas))\n",
        "\n",
        "# まずはbetaの値でやってみて、0.44かどうかをみる\n",
        "\n",
        "tc = 0.442\n",
        "\n",
        "# beta-probability\n",
        "fig, ax = plt.subplots()\n",
        "plt.title(\"ferromagnetism probability\")\n",
        "plt.xlabel('beta')\n",
        "plt.ylabel('probability')\n",
        "plt.hlines(0.5, minbeta, maxbeta, color='g', linestyles='dotted')\n",
        "plt.vlines(0.44, 0, 1, color='g', linestyles='dotted')\n",
        "plt.vlines(tc, 0, 1, color='g', linestyles='dotted')\n",
        "ax.errorbar(betas, result, capsize=4, marker='.', linestyle=\"\")\n",
        "plt.show()\n",
        "\n",
        "# T-probability\n",
        "fig, ax = plt.subplots()\n",
        "plt.title(\"ferromagnetism probability\")\n",
        "plt.xlabel('T')\n",
        "plt.ylabel('probability')\n",
        "plt.hlines(0.5, 1/maxbeta, 1/minbeta, color='g', linestyles='dotted')\n",
        "plt.vlines(2.27, 0, 1, color='g', linestyles='dotted')\n",
        "plt.vlines(1/tc, 0, 1, color='g', linestyles='dotted')\n",
        "ax.errorbar(T, result, capsize=4, marker='.', linestyle=\"\")\n",
        "plt.show()"
      ],
      "metadata": {
        "colab": {
          "base_uri": "https://localhost:8080/",
          "height": 573
        },
        "id": "UI4HYgseom60",
        "outputId": "4c39b5b9-f533-48f0-b15c-5d8e50da1f66"
      },
      "execution_count": 21,
      "outputs": [
        {
          "output_type": "display_data",
          "data": {
            "text/plain": [
              "<Figure size 432x288 with 1 Axes>"
            ],
            "image/png": "[encoded data removed]"
          },
          "metadata": {
            "needs_background": "light"
          }
        },
        {
          "output_type": "display_data",
          "data": {
            "text/plain": [
              "<Figure size 432x288 with 1 Axes>"
            ],
            "image/png": "[encoded data removed]"
          },
          "metadata": {
            "needs_background": "light"
          }
        }
      ]
    },
    {
      "cell_type": "code",
      "source": [
        "num=19\n",
        "print(result)\n",
        "\n",
        "print(result[num])\n",
        "print(betas[num])\n",
        "print(T[num])"
      ],
      "metadata": {
        "colab": {
          "base_uri": "https://localhost:8080/"
        },
        "id": "qEZFFO_HZNim",
        "outputId": "944efc93-87c5-4534-ba96-27021bfd69aa"
      },
      "execution_count": 19,
      "outputs": [
        {
          "output_type": "stream",
          "name": "stdout",
          "text": [
            "[0.047432822847622444, 0.019137272876832867, 0.021466538879758447, 0.09252033833763562, 0.04654908009815699, 0.07036607245881896, 0.1253914090586477, 0.09750318397200317, 0.2834813305991702, 0.15937555193086156, 0.1284218467393657, 0.1334392373013543, 0.348909521382302, 0.2831907718758885, 0.3391699721338227, 0.5048371453187428, 0.23342913866217713, 0.4310430903336965, 0.44110025953268633, 0.5006422548161936, 0.652962700650096, 0.422190048918128, 0.47468097331002357, 0.8423535011708736, 0.4737815013155341, 0.6875872922712005, 0.740326589345932, 0.8134773604571819, 0.7316864751279354, 0.8897184170782566, 0.9236241355538368, 0.8324097632430494, 0.8619706112891435, 0.8460938401520253, 0.9509639412164688, 0.9211917489767074, 0.9081642180681229, 0.958099028468132, 0.9474836379289627, 0.9687586843967437, 0.977107310295105, 0.9770137071609497, 0.959630212187767, 0.9723978161811828, 0.9965155988931655, 0.9755800873041153, 0.9904089421033859, 0.9867176711559296, 0.9711604118347168, 0.9952955961227417]\n",
            "0.5006422548161936\n",
            "0.4387755102040817\n",
            "2.27906976744186\n"
          ]
        }
      ]
    }
  ]
}