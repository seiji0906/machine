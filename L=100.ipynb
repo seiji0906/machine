{
  "cells": [
    {
      "cell_type": "markdown",
      "metadata": {
        "id": "view-in-github",
        "colab_type": "text"
      },
      "source": [
        "<a href=\"https://colab.research.google.com/github/seiji0906/machine/blob/main/L%3D100.ipynb\" target=\"_parent\"><img src=\"https://colab.research.google.com/assets/colab-badge.svg\" alt=\"Open In Colab\"/></a>"
      ]
    },
    {
      "cell_type": "code",
      "execution_count": 1,
      "metadata": {
        "id": "IKpqpGPe0pYK"
      },
      "outputs": [],
      "source": [
        "# 値設定\n",
        "L = 100\n",
        "maxbeta = 0.5\n",
        "minbeta = 0.38\n",
        "folder_name = '相転移L={}'.format(L)\n",
        "epoch = 10\n",
        "batch_size = 32\n",
        "# batch_sizeを64へ\n",
        "split = 50\n",
        "repet = 20"
      ]
    },
    {
      "cell_type": "code",
      "execution_count": 2,
      "metadata": {
        "id": "OJ7FzTKLXeYi",
        "colab": {
          "base_uri": "https://localhost:8080/"
        },
        "outputId": "6bbb6848-3a2e-4101-d638-652fe6858c29"
      },
      "outputs": [
        {
          "output_type": "stream",
          "name": "stdout",
          "text": [
            "Mounted at /content/drive\n"
          ]
        }
      ],
      "source": [
        "from google.colab import drive\n",
        "drive.mount('/content/drive')"
      ]
    },
    {
      "cell_type": "code",
      "execution_count": 3,
      "metadata": {
        "id": "KUpNBvv8Zo0-"
      },
      "outputs": [],
      "source": [
        "from numpy.core.fromnumeric import ravel\n",
        "# データの作成\n",
        "import os\n",
        "import shutil\n",
        "import numpy as np\n",
        "import matplotlib.pyplot as plt\n",
        "import random\n",
        "\n",
        "from sklearn.model_selection import train_test_split\n",
        "from sklearn import svm\n",
        "from sklearn.metrics import accuracy_score"
      ]
    },
    {
      "cell_type": "code",
      "execution_count": 4,
      "metadata": {
        "id": "Ut46TAswZ5JX"
      },
      "outputs": [],
      "source": [
        "def neighor_spin_sum(s, x, y):\n",
        "    x_right=x+1\n",
        "    x_left=x-1\n",
        "    y_up=y+1\n",
        "    y_down=y-1\n",
        "\n",
        "    # 周期境界条件\n",
        "    if x_right>=Nx:\n",
        "        x_right-=Nx\n",
        "    if x_left<0:\n",
        "        x_left+=Nx\n",
        "    if y_up>=Ny:\n",
        "        y_up-=Ny\n",
        "    if y_down<0:\n",
        "        y_down+=Ny\n",
        "\n",
        "    neighor_spin_sum=s[x_right][y]+s[x_left][y]+s[x][y_up]+s[x][y_down]\n",
        "    return neighor_spin_sum"
      ]
    },
    {
      "cell_type": "code",
      "execution_count": 5,
      "metadata": {
        "id": "nfEJ_iv1Z7bf"
      },
      "outputs": [],
      "source": [
        "def calc_energy(s, h=0.01):\n",
        "    energy = 0\n",
        "    for x in range(Nx):\n",
        "        for y in range(Ny):\n",
        "            # dobule count\n",
        "            energy += - neighor_spin_sum(s, x, y)/2\n",
        "    energy += h*np.sum(s)\n",
        "    return energy"
      ]
    },
    {
      "cell_type": "code",
      "execution_count": 6,
      "metadata": {
        "id": "juEEdkH2Z_yE"
      },
      "outputs": [],
      "source": [
        "def gibbs_sampling(s, beta=1.0, h=0.0):\n",
        "    xs=list(range(Nx))\n",
        "    random.shuffle(xs)\n",
        "    ys=list(range(Ny))\n",
        "    random.shuffle(ys)\n",
        "    for x in xs:\n",
        "        for y in ys:\n",
        "            k=neighor_spin_sum(s, x, y)-h\n",
        "            trans_prob = np.exp(beta*k) / (np.exp(beta*k)+np.exp(-beta*k))\n",
        "            if np.random.random()<=trans_prob:\n",
        "                s[x][y]=1\n",
        "            else:\n",
        "                s[x][y]=-1\n",
        "    return s"
      ]
    },
    {
      "cell_type": "code",
      "execution_count": 7,
      "metadata": {
        "id": "4_t-xqVFVT4I"
      },
      "outputs": [],
      "source": [
        "# # 相転移データ作成\n",
        "# import matplotlib.animation as animation\n",
        "# from matplotlib import rc\n",
        "# import cv2\n",
        "# import glob as glob\n",
        "# from keras.utils import np_utils\n",
        "# from sklearn.model_selection import train_test_split\n",
        "\n",
        "\n",
        "# folder = r\"drive/MyDrive/Colab Notebooks/常磁性L={}\".format(L)\n",
        "# if os.path.exists(folder):\n",
        "#   shutil.rmtree(folder)\n",
        "# if not os.path.exists(folder):\n",
        "#   os.mkdir(folder)\n",
        "\n",
        "# path = '/content/drive/MyDrive/Colab Notebooks'\n",
        "\n",
        "# Nx = L\n",
        "# Ny = L\n",
        "# steps=100\n",
        "# # 初期配位\n",
        "\n",
        "# betas=np.linspace(0.1, 0.38, split).tolist()\n",
        "\n",
        "# for beta in betas:\n",
        "\n",
        "#   fig, ax = plt.subplots(figsize=(6,6))\n",
        "#   ax.axis(\"off\")\n",
        "\n",
        "#   s = np.random.randint(0, 2, (Nx, Ny)).tolist()\n",
        "\n",
        "#   for i in range(repet):\n",
        "\n",
        "#     for step in range(steps):\n",
        "#       s = gibbs_sampling(s, beta=beta, h=0)\n",
        "\n",
        "#       if step>=99:\n",
        "#         im = ax.imshow(s, animated=True)\n",
        "\n",
        "#         fig.subplots_adjust(left=0, right=1, bottom=0, top=1)\n",
        "#         filename = '/content/drive/MyDrive/Colab Notebooks/常磁性L={}/beta={}_step={}.jpg'.format(L, beta, i)\n",
        "\n",
        "#         plt.savefig(filename)\n",
        "#         # print(filename)\n",
        "      \n",
        "#   plt.close()"
      ]
    },
    {
      "cell_type": "code",
      "execution_count": 8,
      "metadata": {
        "id": "astDFMQXXqU6"
      },
      "outputs": [],
      "source": [
        "# # 相転移データ作成\n",
        "# import matplotlib.animation as animation\n",
        "# from matplotlib import rc\n",
        "# import cv2\n",
        "# import glob as glob\n",
        "# from keras.utils import np_utils\n",
        "# from sklearn.model_selection import train_test_split\n",
        "\n",
        "# folder = r\"drive/MyDrive/Colab Notebooks/強磁性L={}\".format(L)\n",
        "# if os.path.exists(folder):\n",
        "#   shutil.rmtree(folder)\n",
        "# if not os.path.exists(folder):\n",
        "#   os.mkdir(folder)\n",
        "\n",
        "# path = '/content/drive/MyDrive/Colab Notebooks'\n",
        "\n",
        "# Nx = L\n",
        "# Ny = L\n",
        "# steps=100\n",
        "# # 初期配位\n",
        "\n",
        "# betas=np.linspace(0.5, 1.0, split).tolist()\n",
        "\n",
        "# for beta in betas:\n",
        "\n",
        "#   fig, ax = plt.subplots(figsize=(6,6))\n",
        "#   ax.axis(\"off\")\n",
        "\n",
        "#   s = np.random.randint(0, 2, (Nx, Ny)).tolist()\n",
        "\n",
        "#   for i in range(repet):\n",
        "\n",
        "#     for step in range(steps):\n",
        "#       s = gibbs_sampling(s, beta=beta, h=0)\n",
        "\n",
        "#       if step>=99:\n",
        "#         im = ax.imshow(s, animated=True)\n",
        "\n",
        "#         fig.subplots_adjust(left=0, right=1, bottom=0, top=1)\n",
        "#         filename = '/content/drive/MyDrive/Colab Notebooks/強磁性L={}/beta={}_step={}.jpg'.format(L, beta, i)\n",
        "\n",
        "#         plt.savefig(filename)\n",
        "#         # print(filename)\n",
        "      \n",
        "#   plt.close()"
      ]
    },
    {
      "cell_type": "code",
      "execution_count": 9,
      "metadata": {
        "id": "hQt6W7vFX6Kd"
      },
      "outputs": [],
      "source": [
        "# 相転移データ作成\n",
        "import matplotlib.animation as animation\n",
        "from matplotlib import rc\n",
        "import cv2\n",
        "import glob as glob\n",
        "from keras.utils import np_utils\n",
        "from sklearn.model_selection import train_test_split\n",
        "\n",
        "folder = r\"drive/MyDrive/Colab Notebooks/相転移L={}\".format(L)\n",
        "if os.path.exists(folder):\n",
        "  shutil.rmtree(folder)\n",
        "if not os.path.exists(folder):\n",
        "  os.mkdir(folder)\n",
        "\n",
        "path = '/content/drive/MyDrive/Colab Notebooks'\n",
        "\n",
        "Nx = L\n",
        "Ny = L\n",
        "steps=100\n",
        "# 初期配位\n",
        "\n",
        "betas=np.linspace(minbeta, maxbeta, split).tolist()\n",
        "\n",
        "for beta in betas:\n",
        "\n",
        "  fig, ax = plt.subplots(figsize=(6,6))\n",
        "  ax.axis(\"off\")\n",
        "\n",
        "  s = np.random.randint(0, 2, (Nx, Ny)).tolist()\n",
        "\n",
        "  for i in range(repet):\n",
        "\n",
        "    for step in range(steps):\n",
        "      s = gibbs_sampling(s, beta=beta, h=0)\n",
        "\n",
        "      if step>=99:\n",
        "        im = ax.imshow(s, animated=True)\n",
        "\n",
        "        fig.subplots_adjust(left=0, right=1, bottom=0, top=1)\n",
        "        filename = '/content/drive/MyDrive/Colab Notebooks/相転移L={}/beta={}_step={}.jpg'.format(L, beta, i)\n",
        "\n",
        "        plt.savefig(filename)\n",
        "        # print(filename)\n",
        "      \n",
        "  plt.close()"
      ]
    },
    {
      "cell_type": "code",
      "execution_count": 10,
      "metadata": {
        "id": "Ky2dfrDIn88D",
        "colab": {
          "base_uri": "https://localhost:8080/"
        },
        "outputId": "637ad560-d032-4572-b81d-ca70fe6dfb5a"
      },
      "outputs": [
        {
          "output_type": "stream",
          "name": "stdout",
          "text": [
            "1600\n",
            "400\n"
          ]
        }
      ],
      "source": [
        "import numpy as np\n",
        "import cv2\n",
        "import glob as glob\n",
        "from keras.utils import np_utils\n",
        "from sklearn.model_selection import train_test_split\n",
        "\n",
        "path = '/content/drive/MyDrive/Colab Notebooks'\n",
        "\n",
        "\n",
        "filename1 = '常磁性L={}'.format(L)\n",
        "filename2 = '強磁性L={}'.format(L)\n",
        "\n",
        "folder = [filename1, filename2]\n",
        "\n",
        "X_image = []\n",
        "Y_label = []\n",
        "\n",
        "for label,class_name in enumerate(folder):\n",
        "  files = glob.glob(path + \"/\" +  class_name + \"/*.jpg\")\n",
        "  for file in files:\n",
        "    img = cv2.imread(file)\n",
        "    img = cv2.cvtColor(img, cv2.COLOR_BGR2GRAY)\n",
        "    img = cv2.resize(img,dsize=(180,180))\n",
        "    X_image.append(img)\n",
        "    Y_label.append(label)\n",
        "\n",
        "X_image = np.array(X_image)\n",
        "X_image = X_image.astype('float32')\n",
        "X_image /= 255.0\n",
        "\n",
        "Y_label = np.array(Y_label)\n",
        "Y_label = np_utils.to_categorical(Y_label, len(folder))\n",
        "Y_label[:5]\n",
        "\n",
        "\n",
        "\n",
        "X_train,X_test,Y_train,Y_test = train_test_split(X_image,Y_label,test_size=0.2, shuffle=True)\n",
        "\n",
        "print(len(X_train))\n",
        "print(len(X_test))"
      ]
    },
    {
      "cell_type": "code",
      "execution_count": 11,
      "metadata": {
        "id": "16wXpC-Fn_uW",
        "colab": {
          "base_uri": "https://localhost:8080/"
        },
        "outputId": "a0e34622-f8a6-47a5-8a45-18990a8fca88"
      },
      "outputs": [
        {
          "output_type": "stream",
          "name": "stdout",
          "text": [
            "Model: \"model\"\n",
            "_________________________________________________________________\n",
            " Layer (type)                Output Shape              Param #   \n",
            "=================================================================\n",
            " input_1 (InputLayer)        [(None, 180, 180, 1)]     0         \n",
            "                                                                 \n",
            " rescaling (Rescaling)       (None, 180, 180, 1)       0         \n",
            "                                                                 \n",
            " conv2d (Conv2D)             (None, 178, 178, 32)      320       \n",
            "                                                                 \n",
            " max_pooling2d (MaxPooling2D  (None, 89, 89, 32)       0         \n",
            " )                                                               \n",
            "                                                                 \n",
            " conv2d_1 (Conv2D)           (None, 87, 87, 64)        18496     \n",
            "                                                                 \n",
            " max_pooling2d_1 (MaxPooling  (None, 43, 43, 64)       0         \n",
            " 2D)                                                             \n",
            "                                                                 \n",
            " conv2d_2 (Conv2D)           (None, 41, 41, 128)       73856     \n",
            "                                                                 \n",
            " max_pooling2d_2 (MaxPooling  (None, 20, 20, 128)      0         \n",
            " 2D)                                                             \n",
            "                                                                 \n",
            " conv2d_3 (Conv2D)           (None, 18, 18, 256)       295168    \n",
            "                                                                 \n",
            " max_pooling2d_3 (MaxPooling  (None, 9, 9, 256)        0         \n",
            " 2D)                                                             \n",
            "                                                                 \n",
            " flatten (Flatten)           (None, 20736)             0         \n",
            "                                                                 \n",
            " dense (Dense)               (None, 2)                 41474     \n",
            "                                                                 \n",
            "=================================================================\n",
            "Total params: 429,314\n",
            "Trainable params: 429,314\n",
            "Non-trainable params: 0\n",
            "_________________________________________________________________\n"
          ]
        }
      ],
      "source": [
        "from tensorflow.python import metrics\n",
        "from warnings import filters\n",
        "from tensorflow import keras\n",
        "from tensorflow.keras import layers\n",
        "\n",
        "inputs = keras.Input(shape=(180, 180, 1))\n",
        "\n",
        "leaky_relu = keras.layers.LeakyReLU(alpha=0.2)\n",
        "\n",
        "# adam = keras.optimizers.Adam(learning_rate=0.001, beta_1=0.9, beta_2=0.999, epsilon=None, decay=0.0, amsgrad=False)\n",
        "\n",
        "\n",
        "x = layers.Rescaling(1./255)(inputs)\n",
        "x = layers.Conv2D(filters=32, kernel_size=3, activation=leaky_relu)(x)\n",
        "x = layers.MaxPooling2D(pool_size=2)(x)\n",
        "x = layers.Conv2D(filters=64, kernel_size=3, activation=leaky_relu)(x)\n",
        "x = layers.MaxPooling2D(pool_size=2)(x)\n",
        "x = layers.Conv2D(filters=128, kernel_size=3, activation=leaky_relu)(x)\n",
        "x = layers.MaxPooling2D(pool_size=2)(x)\n",
        "x = layers.Conv2D(filters=256, kernel_size=3, activation=leaky_relu)(x)\n",
        "x = layers.MaxPooling2D(pool_size=2)(x)\n",
        "x = layers.Flatten()(x)\n",
        "outputs = layers.Dense(2, activation=\"sigmoid\")(x)\n",
        "model = keras.Model(inputs=inputs, outputs=outputs)\n",
        "\n",
        "model.summary()\n",
        "\n",
        "model.compile(loss=\"binary_crossentropy\",\n",
        "              optimizer=\"rmsprop\",\n",
        "              metrics=[\"accuracy\"])"
      ]
    },
    {
      "cell_type": "code",
      "execution_count": 12,
      "metadata": {
        "id": "NSyo8fyfoei9",
        "colab": {
          "base_uri": "https://localhost:8080/"
        },
        "outputId": "0c1f25b1-8b7c-4ff5-8eea-d17bbfa9605f"
      },
      "outputs": [
        {
          "output_type": "stream",
          "name": "stdout",
          "text": [
            "Epoch 1/10\n",
            "50/50 [==============================] - 99s 2s/step - loss: 0.7025 - accuracy: 0.5044\n",
            "Epoch 2/10\n",
            "50/50 [==============================] - 97s 2s/step - loss: 0.7307 - accuracy: 0.5906\n",
            "Epoch 3/10\n",
            "50/50 [==============================] - 99s 2s/step - loss: 0.6487 - accuracy: 0.6250\n",
            "Epoch 4/10\n",
            "50/50 [==============================] - 96s 2s/step - loss: 0.5637 - accuracy: 0.8050\n",
            "Epoch 5/10\n",
            "50/50 [==============================] - 98s 2s/step - loss: 0.3066 - accuracy: 0.9569\n",
            "Epoch 6/10\n",
            "50/50 [==============================] - 99s 2s/step - loss: 4.1180e-05 - accuracy: 1.0000\n",
            "Epoch 7/10\n",
            "50/50 [==============================] - 101s 2s/step - loss: 1.7654e-06 - accuracy: 1.0000\n",
            "Epoch 8/10\n",
            "50/50 [==============================] - 98s 2s/step - loss: 1.2080e-07 - accuracy: 1.0000\n",
            "Epoch 9/10\n",
            "50/50 [==============================] - 98s 2s/step - loss: 0.8631 - accuracy: 0.9644\n",
            "Epoch 10/10\n",
            "50/50 [==============================] - 98s 2s/step - loss: 7.9655e-04 - accuracy: 1.0000\n",
            "13/13 [==============================] - 8s 559ms/step - loss: 2.0312e-04 - accuracy: 1.0000\n"
          ]
        }
      ],
      "source": [
        "# 学習データで学習\n",
        "model.fit(X_train, Y_train, epochs=epoch, batch_size=batch_size)\n",
        "\n",
        "#テストデータで精度確認\n",
        "score = model.evaluate(X_test, Y_test, batch_size=batch_size)"
      ]
    },
    {
      "cell_type": "code",
      "execution_count": 13,
      "metadata": {
        "id": "i2yFrIfNohOU",
        "colab": {
          "base_uri": "https://localhost:8080/"
        },
        "outputId": "a236c636-7129-4a03-b89c-8632ce784e63"
      },
      "outputs": [
        {
          "output_type": "stream",
          "name": "stdout",
          "text": [
            "1000\n"
          ]
        }
      ],
      "source": [
        "path = '/content/drive/MyDrive/Colab Notebooks'\n",
        "\n",
        "\n",
        "folder = [folder_name]\n",
        "\n",
        "X_image = []\n",
        "\n",
        "for label,class_name in enumerate(folder):\n",
        "  files = glob.glob(path + \"/\" +  class_name + \"/*.jpg\")\n",
        "  for file in files:\n",
        "    img = cv2.imread(file)\n",
        "    img = cv2.cvtColor(img, cv2.COLOR_BGR2GRAY)\n",
        "    img = cv2.resize(img,dsize=(180,180))\n",
        "    X_image.append(img)\n",
        "\n",
        "X_image = np.array(X_image)\n",
        "X_image = X_image.astype('float32')\n",
        "X_image /= 255.0\n",
        "\n",
        "print(len(X_image))"
      ]
    },
    {
      "cell_type": "code",
      "execution_count": 14,
      "metadata": {
        "id": "7CnmoSYQokr6",
        "colab": {
          "base_uri": "https://localhost:8080/"
        },
        "outputId": "d24fdc1f-af9a-4e93-e825-7649a49e6e9e"
      },
      "outputs": [
        {
          "output_type": "stream",
          "name": "stdout",
          "text": [
            "32/32 [==============================] - 19s 573ms/step\n"
          ]
        }
      ],
      "source": [
        "history = model.predict(X_image)"
      ]
    },
    {
      "cell_type": "code",
      "execution_count": 15,
      "metadata": {
        "id": "UI4HYgseom60",
        "colab": {
          "base_uri": "https://localhost:8080/",
          "height": 627
        },
        "outputId": "93f78a12-70ee-4ec2-bb59-e165d296b5d4"
      },
      "outputs": [
        {
          "output_type": "stream",
          "name": "stdout",
          "text": [
            "0.4371501164708839\n",
            "50\n",
            "[  0.43571253 284.74761401]\n"
          ]
        },
        {
          "output_type": "display_data",
          "data": {
            "text/plain": [
              "<Figure size 432x288 with 1 Axes>"
            ],
            "image/png": "[encoded data removed]"
          },
          "metadata": {
            "needs_background": "light"
          }
        },
        {
          "output_type": "display_data",
          "data": {
            "text/plain": [
              "<Figure size 432x288 with 1 Axes>"
            ],
            "image/png": "[encoded data removed]"
          },
          "metadata": {
            "needs_background": "light"
          }
        }
      ],
      "source": [
        "import matplotlib.pyplot as plt\n",
        "from statistics import mean\n",
        "\n",
        "# plt.plot(history)\n",
        "\n",
        "predict = []\n",
        "\n",
        "for i in range(len(history)):\n",
        "  predict.append(history[i][1])\n",
        "\n",
        "\n",
        "result = []\n",
        "\n",
        "p = 0\n",
        "\n",
        "for i in range(split):\n",
        "  for j in range(repet):\n",
        "    p += predict[i*repet+j]\n",
        "  result.append(p / repet)\n",
        "  p = 0\n",
        "\n",
        "# split=20\n",
        "# for i in range(split):\n",
        "#   for j in range(10):\n",
        "#     p += predict[i*10+j]\n",
        "#   result.append(p / 10)\n",
        "#   p = 0\n",
        "\n",
        "betas=np.linspace(minbeta, maxbeta, split).tolist()\n",
        "T = list(map(lambda x: 1/x, betas))\n",
        "\n",
        "\n",
        "A = np.array([betas, np.ones(len(betas))])\n",
        "A = A.T\n",
        "a,b = np.linalg.lstsq(A,result,rcond=None)[0]\n",
        "\n",
        "y = []\n",
        "\n",
        "# print(a)\n",
        "# print(b)\n",
        "\n",
        "\n",
        "for i in range(len(betas)):\n",
        "  y.append(a * betas[i] + b)\n",
        "\n",
        "\n",
        "print((0.5-b)/a)\n",
        "\n",
        "# 0.5 = a * x + b\n",
        "# x = (0.5 - b)/a\n",
        "# まずはbetaの値でやってみて、0.44かどうかをみる\n",
        "\n",
        "# tc = 0.447\n",
        "\n",
        "# beta-probability\n",
        "fig, ax = plt.subplots()\n",
        "plt.title(\"ferromagnetism probability\")\n",
        "plt.xlabel('beta')\n",
        "plt.ylabel('probability')\n",
        "plt.hlines(0.5, minbeta, maxbeta, color='g', linestyles='dotted')\n",
        "plt.vlines(0.44, 0, 1, color='g', linestyles='dotted')\n",
        "# plt.vlines(tc, 0, 1, color='g', linestyles='dotted')\n",
        "ax.errorbar(betas, result, capsize=4, marker='.', linestyle=\"\")\n",
        "plt.plot(betas, y, \"g--\")\n",
        "\n",
        "from scipy.optimize import curve_fit\n",
        "def sigmoid(x, x0, k):\n",
        "     y = 1 / (1 + np.exp(-k*(x-x0)))\n",
        "     return y\n",
        "\n",
        "print(len(result))\n",
        "\n",
        "x0_initial = 10.2\n",
        "k_initial = 0.2\n",
        "popt, pcov = curve_fit(sigmoid, betas, result, [x0_initial,k_initial])\n",
        "# xs_fit = np.linspace(0, 50, 50)\n",
        "xs_fit = betas\n",
        "print(popt)\n",
        "ys_fit = sigmoid(xs_fit, *popt)\n",
        "plt.plot(xs_fit,ys_fit)\n",
        "plt.show()\n",
        "\n",
        "# T-probability\n",
        "fig, ax = plt.subplots()\n",
        "plt.title(\"ferromagnetism probability\")\n",
        "plt.xlabel('T')\n",
        "plt.ylabel('probability')\n",
        "plt.hlines(0.5, 1/maxbeta, 1/minbeta, color='g', linestyles='dotted')\n",
        "plt.vlines(2.27, 0, 1, color='g', linestyles='dotted')\n",
        "# plt.vlines(1/tc, 0, 1, color='g', linestyles='dotted')\n",
        "ax.errorbar(T, result, capsize=4, marker='.', linestyle=\"\")\n",
        "plt.show()"
      ]
    }
  ],
  "metadata": {
    "colab": {
      "provenance": [],
      "include_colab_link": true
    },
    "kernelspec": {
      "display_name": "Python 3",
      "name": "python3"
    },
    "language_info": {
      "name": "python"
    }
  },
  "nbformat": 4,
  "nbformat_minor": 0
}